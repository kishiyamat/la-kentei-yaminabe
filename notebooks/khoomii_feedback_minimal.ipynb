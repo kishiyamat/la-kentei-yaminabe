{
  "nbformat": 4,
  "nbformat_minor": 0,
  "metadata": {
    "colab": {
      "provenance": [],
      "authorship_tag": "ABX9TyOV+NIwn101qonRj3qWjABX",
      "include_colab_link": true
    },
    "kernelspec": {
      "name": "python3",
      "display_name": "Python 3"
    },
    "language_info": {
      "name": "python"
    }
  },
  "cells": [
    {
      "cell_type": "markdown",
      "metadata": {
        "id": "view-in-github",
        "colab_type": "text"
      },
      "source": [
        "<a href=\"https://colab.research.google.com/github/kishiyamat/la-kentei-yaminabe/blob/main/notebooks/khoomii_feedback_minimal.ipynb\" target=\"_parent\"><img src=\"https://colab.research.google.com/assets/colab-badge.svg\" alt=\"Open In Colab\"/></a>"
      ]
    },
    {
      "cell_type": "code",
      "source": [
        "# 必要なライブラリのインストール\n",
        "!pip install praat-parselmouth\n",
        "!pip install pydub"
      ],
      "metadata": {
        "id": "xRzLqJIeyKou",
        "colab": {
          "base_uri": "https://localhost:8080/"
        },
        "outputId": "70066e07-d1f8-4f35-b791-5c2c92d7799d"
      },
      "execution_count": 1,
      "outputs": [
        {
          "output_type": "stream",
          "name": "stdout",
          "text": [
            "Requirement already satisfied: praat-parselmouth in /usr/local/lib/python3.10/dist-packages (0.4.3)\n",
            "Requirement already satisfied: numpy>=1.7.0 in /usr/local/lib/python3.10/dist-packages (from praat-parselmouth) (1.23.5)\n",
            "Requirement already satisfied: pydub in /usr/local/lib/python3.10/dist-packages (0.25.1)\n"
          ]
        }
      ]
    },
    {
      "cell_type": "code",
      "source": [
        "# ライブラリのインポート\n",
        "import io\n",
        "import numpy as np\n",
        "import matplotlib.pyplot as plt\n",
        "import librosa\n",
        "import soundfile as sf\n",
        "import parselmouth\n",
        "from pydub import AudioSegment\n",
        "from pydub.exceptions import CouldntDecodeError\n",
        "from IPython.display import display, Javascript, clear_output\n",
        "from google.colab import output\n",
        "from base64 import b64decode\n",
        "from skimage.transform import resize\n",
        "import tempfile\n",
        "import warnings\n",
        "\n",
        "# 警告メッセージを非表示にする\n",
        "warnings.filterwarnings('ignore')\n",
        "\n",
        "# 録音機能のJavaScriptコード\n",
        "# 音声を保存する方法は以下のGist, Notebookを参照\n",
        "# https://gist.github.com/tam17aki/8bfa2a42dab0061ee2641aed32dd1d30\n",
        "# https://colab.research.google.com/github/espnet/notebook/blob/master/espnet2_asr_realtime_demo.ipynb\n",
        "\n",
        "RECORD = \"\"\"\n",
        "const sleep = time => new Promise(resolve => setTimeout(resolve, time));\n",
        "const b2text = blob => new Promise(resolve => {\n",
        "  const reader = new FileReader();\n",
        "  reader.onloadend = e => resolve(e.srcElement.result);\n",
        "  reader.readAsDataURL(blob);\n",
        "});\n",
        "\n",
        "var record = time => new Promise(async resolve => {\n",
        "  stream = await navigator.mediaDevices.getUserMedia({ audio: true });\n",
        "\n",
        "  // MediaRecorderをWebM形式で初期化\n",
        "  const options = { mimeType: \"audio/webm\" };\n",
        "  recorder = new MediaRecorder(stream, options);\n",
        "\n",
        "  chunks = [];\n",
        "  recorder.ondataavailable = e => chunks.push(e.data);\n",
        "  recorder.start();\n",
        "  await sleep(time);\n",
        "  recorder.onstop = async () => {\n",
        "    blob = new Blob(chunks);\n",
        "    text = await b2text(blob);\n",
        "    resolve(text);\n",
        "  };\n",
        "  recorder.stop();\n",
        "});\n",
        "\"\"\"\n",
        "\n",
        "\n",
        "def draw_pitch(pitch_values, pitch_xs, floor=60, ceiling=300):\n",
        "    plt.plot(pitch_xs, pitch_values, 'o', markersize=2)\n",
        "    plt.grid(False)\n",
        "    plt.ylim(floor, ceiling)\n",
        "    plt.ylabel(\"F0[Hz]\")\n",
        "\n",
        "\n",
        "def draw_spectrogram(spectrogram_values, xy_grid: tuple, y_minmax: tuple, dynamic_range=70):\n",
        "    x_grid, y_grid = xy_grid\n",
        "    sg_db = 10 * np.log10(spectrogram_values)\n",
        "    plt.pcolormesh(x_grid, y_grid, sg_db, vmin=sg_db.max()-dynamic_range, cmap='gray_r')\n",
        "    plt.ylim(y_minmax)\n",
        "    plt.ylabel(\"frequency [Hz]\")\n"
      ],
      "metadata": {
        "id": "iqKaa1-K3_5U"
      },
      "execution_count": 2,
      "outputs": []
    },
    {
      "cell_type": "code",
      "source": [
        "def feedback(dur=5, res=0.5, figsize = (4, 2)):\n",
        "    rate = 16_000\n",
        "    # 番兵(最初に空のデータを作っておく)\n",
        "    sil_file = \"silence.wav\"\n",
        "    parselmouth.Sound(np.zeros(int(dur * rate)), sampling_frequency=rate).save(sil_file, \"WAV\")\n",
        "    snd = parselmouth.Sound(sil_file)\n",
        "    spectrogram = snd.to_spectrogram()\n",
        "    pitch_values = snd.to_pitch().selected_array['frequency']\n",
        "    spectrogram_values = spectrogram.values\n",
        "\n",
        "    while True:\n",
        "        # Record (binaryから直接読み込んでいる)\n",
        "        display(Javascript(RECORD))\n",
        "        flac_buffer = io.BytesIO(b64decode(output.eval_js('record(%d)' % (res * 1000)).split(',')[1]))\n",
        "        flac_audio = AudioSegment.from_file(flac_buffer, format=\"webm\")\n",
        "        speech = np.array(flac_audio.get_array_of_samples(), dtype=np.float64)\n",
        "        speech = librosa.resample(speech, orig_sr=flac_audio.frame_rate, target_sr=rate)\n",
        "        # 読み込んだ音声の解析\n",
        "        snd_new = parselmouth.Sound(speech, sampling_frequency=rate)\n",
        "        # スペクトログラム\n",
        "        spec_new = snd_new.to_spectrogram()\n",
        "        _, spec_y = spec_new.values.shape\n",
        "        spectrogram_values = np.hstack((spectrogram_values[:, spec_y:], spec_new.values))\n",
        "        # ピッチ\n",
        "        pitch_new = snd_new.to_pitch().selected_array['frequency']\n",
        "        pitch_values = np.hstack((pitch_values[pitch_new.shape[0]:], pitch_new))\n",
        "        # 画面のチラつき防止\n",
        "        clear_output(wait=True)\n",
        "        # 描画\n",
        "        plt.figure(figsize=figsize)\n",
        "        draw_spectrogram(spectrogram_values=spectrogram_values,\n",
        "                        xy_grid=(spectrogram.x_grid(), spectrogram.y_grid()),\n",
        "                        y_minmax=(spectrogram.ymin, spectrogram.ymax),)\n",
        "\n",
        "        plt.twinx()\n",
        "        # draw_pitch(pitch_values, pitch.xs())\n",
        "        draw_pitch(pitch_values, snd.to_pitch().xs())\n",
        "        plt.xlim([snd.xmin, snd.xmax])\n",
        "        plt.show()\n"
      ],
      "metadata": {
        "id": "DIcT5w0mnfHn"
      },
      "execution_count": 3,
      "outputs": []
    },
    {
      "cell_type": "code",
      "source": [
        "# 以下の1, 2 を実行し、3を青い丸と右軸を見ながら調整する\n",
        "# > 1. 歯の間を指2本分くらい空け、口先をウの形にする。\n",
        "# > 2. 舌を立て、 舌を軟口蓋と硬口蓋の間ぐらいの位置に近づける。\n",
        "# > 3. ピアノの中央ドの音のすぐ下のソ（G3）の音ぐらいの高さで「イ」のつもりで発声する。\n",
        "# 手順4は音程が外れないように注意しながら調整する\n",
        "# > 4. メロディー音が聞こえたら舌を少しずつ前後に動かしてメロディー音を変える\n",
        "try:\n",
        "    feedback(dur=2, res=0.5, figsize=(2, 3))\n",
        "except CouldntDecodeError:\n",
        "    # CouldntDecodeError が出たら再度実行する\n",
        "    feedback(dur=2, res=0.5, figsize=(2, 3))"
      ],
      "metadata": {
        "colab": {
          "base_uri": "https://localhost:8080/",
          "height": 297
        },
        "id": "YaqmkY7ttWIn",
        "outputId": "bd05e809-2e6c-42d5-80b3-66a9d74e0ba6"
      },
      "execution_count": null,
      "outputs": [
        {
          "output_type": "display_data",
          "data": {
            "text/plain": [
              "<Figure size 200x300 with 2 Axes>"
            ],
            "image/png": "[encoded data removed]"
          },
          "metadata": {}
        },
        {
          "output_type": "display_data",
          "data": {
            "text/plain": [
              "<IPython.core.display.Javascript object>"
            ],
            "application/javascript": [
              "\n",
              "const sleep = time => new Promise(resolve => setTimeout(resolve, time));\n",
              "const b2text = blob => new Promise(resolve => {\n",
              "  const reader = new FileReader();\n",
              "  reader.onloadend = e => resolve(e.srcElement.result);\n",
              "  reader.readAsDataURL(blob);\n",
              "});\n",
              "\n",
              "var record = time => new Promise(async resolve => {\n",
              "  stream = await navigator.mediaDevices.getUserMedia({ audio: true });\n",
              "\n",
              "  // MediaRecorderをWebM形式で初期化\n",
              "  const options = { mimeType: \"audio/webm\" };\n",
              "  recorder = new MediaRecorder(stream, options);\n",
              "\n",
              "  chunks = [];\n",
              "  recorder.ondataavailable = e => chunks.push(e.data);\n",
              "  recorder.start();\n",
              "  await sleep(time);\n",
              "  recorder.onstop = async () => {\n",
              "    blob = new Blob(chunks);\n",
              "    text = await b2text(blob);\n",
              "    resolve(text);\n",
              "  };\n",
              "  recorder.stop();\n",
              "});\n"
            ]
          },
          "metadata": {}
        }
      ]
    }
  ]
}