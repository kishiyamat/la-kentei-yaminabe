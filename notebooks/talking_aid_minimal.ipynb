{
  "nbformat": 4,
  "nbformat_minor": 0,
  "metadata": {
    "colab": {
      "provenance": [],
      "authorship_tag": "ABX9TyMrTwSZGmVm81YHp7L52lXY",
      "include_colab_link": true
    },
    "kernelspec": {
      "name": "python3",
      "display_name": "Python 3"
    },
    "language_info": {
      "name": "python"
    }
  },
  "cells": [
    {
      "cell_type": "markdown",
      "metadata": {
        "id": "view-in-github",
        "colab_type": "text"
      },
      "source": [
        "<a href=\"https://colab.research.google.com/github/kishiyamat/la-kentei-yaminabe/blob/fix%2Fharipota-notebook/notebooks/talking_aid_minimal.ipynb\" target=\"_parent\"><img src=\"https://colab.research.google.com/assets/colab-badge.svg\" alt=\"Open In Colab\"/></a>"
      ]
    },
    {
      "cell_type": "markdown",
      "source": [
        "# 意味を考慮して再現するには？\n",
        "\n",
        "## 単語の関連度合い"
      ],
      "metadata": {
        "id": "_-yznirR39tw"
      }
    },
    {
      "cell_type": "markdown",
      "source": [
        "### インストール"
      ],
      "metadata": {
        "id": "nPuVn00f5Zfa"
      }
    },
    {
      "cell_type": "code",
      "execution_count": 2,
      "metadata": {
        "colab": {
          "base_uri": "https://localhost:8080/"
        },
        "id": "hocg88jt3i-X",
        "outputId": "21954165-2295-4194-d609-47806e142573"
      },
      "outputs": [
        {
          "output_type": "stream",
          "name": "stdout",
          "text": [
            "Collecting gensim\n",
            "  Downloading gensim-4.4.0-cp312-cp312-manylinux_2_24_x86_64.manylinux_2_28_x86_64.whl.metadata (8.4 kB)\n",
            "Requirement already satisfied: numpy>=1.18.5 in /usr/local/lib/python3.12/dist-packages (from gensim) (2.0.2)\n",
            "Requirement already satisfied: scipy>=1.7.0 in /usr/local/lib/python3.12/dist-packages (from gensim) (1.16.2)\n",
            "Requirement already satisfied: smart_open>=1.8.1 in /usr/local/lib/python3.12/dist-packages (from gensim) (7.4.0)\n",
            "Requirement already satisfied: wrapt in /usr/local/lib/python3.12/dist-packages (from smart_open>=1.8.1->gensim) (2.0.0)\n",
            "Downloading gensim-4.4.0-cp312-cp312-manylinux_2_24_x86_64.manylinux_2_28_x86_64.whl (27.9 MB)\n",
            "\u001b[2K   \u001b[90m━━━━━━━━━━━━━━━━━━━━━━━━━━━━━━━━━━━━━━━━\u001b[0m \u001b[32m27.9/27.9 MB\u001b[0m \u001b[31m64.5 MB/s\u001b[0m eta \u001b[36m0:00:00\u001b[0m\n",
            "\u001b[?25hInstalling collected packages: gensim\n",
            "Successfully installed gensim-4.4.0\n",
            "Requirement already satisfied: ginza in /usr/local/lib/python3.12/dist-packages (5.2.0)\n",
            "Requirement already satisfied: ja_ginza in /usr/local/lib/python3.12/dist-packages (5.2.0)\n",
            "Requirement already satisfied: spacy<4.0.0,>=3.4.4 in /usr/local/lib/python3.12/dist-packages (from ginza) (3.8.7)\n",
            "Requirement already satisfied: plac>=1.3.3 in /usr/local/lib/python3.12/dist-packages (from ginza) (1.4.5)\n",
            "Requirement already satisfied: SudachiPy<0.7.0,>=0.6.2 in /usr/local/lib/python3.12/dist-packages (from ginza) (0.6.10)\n",
            "Requirement already satisfied: SudachiDict-core>=20210802 in /usr/local/lib/python3.12/dist-packages (from ginza) (20250825)\n",
            "Requirement already satisfied: spacy-legacy<3.1.0,>=3.0.11 in /usr/local/lib/python3.12/dist-packages (from spacy<4.0.0,>=3.4.4->ginza) (3.0.12)\n",
            "Requirement already satisfied: spacy-loggers<2.0.0,>=1.0.0 in /usr/local/lib/python3.12/dist-packages (from spacy<4.0.0,>=3.4.4->ginza) (1.0.5)\n",
            "Requirement already satisfied: murmurhash<1.1.0,>=0.28.0 in /usr/local/lib/python3.12/dist-packages (from spacy<4.0.0,>=3.4.4->ginza) (1.0.13)\n",
            "Requirement already satisfied: cymem<2.1.0,>=2.0.2 in /usr/local/lib/python3.12/dist-packages (from spacy<4.0.0,>=3.4.4->ginza) (2.0.11)\n",
            "Requirement already satisfied: preshed<3.1.0,>=3.0.2 in /usr/local/lib/python3.12/dist-packages (from spacy<4.0.0,>=3.4.4->ginza) (3.0.10)\n",
            "Requirement already satisfied: thinc<8.4.0,>=8.3.4 in /usr/local/lib/python3.12/dist-packages (from spacy<4.0.0,>=3.4.4->ginza) (8.3.6)\n",
            "Requirement already satisfied: wasabi<1.2.0,>=0.9.1 in /usr/local/lib/python3.12/dist-packages (from spacy<4.0.0,>=3.4.4->ginza) (1.1.3)\n",
            "Requirement already satisfied: srsly<3.0.0,>=2.4.3 in /usr/local/lib/python3.12/dist-packages (from spacy<4.0.0,>=3.4.4->ginza) (2.5.1)\n",
            "Requirement already satisfied: catalogue<2.1.0,>=2.0.6 in /usr/local/lib/python3.12/dist-packages (from spacy<4.0.0,>=3.4.4->ginza) (2.0.10)\n",
            "Requirement already satisfied: weasel<0.5.0,>=0.1.0 in /usr/local/lib/python3.12/dist-packages (from spacy<4.0.0,>=3.4.4->ginza) (0.4.1)\n",
            "Requirement already satisfied: typer<1.0.0,>=0.3.0 in /usr/local/lib/python3.12/dist-packages (from spacy<4.0.0,>=3.4.4->ginza) (0.20.0)\n",
            "Requirement already satisfied: tqdm<5.0.0,>=4.38.0 in /usr/local/lib/python3.12/dist-packages (from spacy<4.0.0,>=3.4.4->ginza) (4.67.1)\n",
            "Requirement already satisfied: numpy>=1.19.0 in /usr/local/lib/python3.12/dist-packages (from spacy<4.0.0,>=3.4.4->ginza) (2.0.2)\n",
            "Requirement already satisfied: requests<3.0.0,>=2.13.0 in /usr/local/lib/python3.12/dist-packages (from spacy<4.0.0,>=3.4.4->ginza) (2.32.4)\n",
            "Requirement already satisfied: pydantic!=1.8,!=1.8.1,<3.0.0,>=1.7.4 in /usr/local/lib/python3.12/dist-packages (from spacy<4.0.0,>=3.4.4->ginza) (2.11.10)\n",
            "Requirement already satisfied: jinja2 in /usr/local/lib/python3.12/dist-packages (from spacy<4.0.0,>=3.4.4->ginza) (3.1.6)\n",
            "Requirement already satisfied: setuptools in /usr/local/lib/python3.12/dist-packages (from spacy<4.0.0,>=3.4.4->ginza) (75.2.0)\n",
            "Requirement already satisfied: packaging>=20.0 in /usr/local/lib/python3.12/dist-packages (from spacy<4.0.0,>=3.4.4->ginza) (25.0)\n",
            "Requirement already satisfied: langcodes<4.0.0,>=3.2.0 in /usr/local/lib/python3.12/dist-packages (from spacy<4.0.0,>=3.4.4->ginza) (3.5.0)\n",
            "Requirement already satisfied: language-data>=1.2 in /usr/local/lib/python3.12/dist-packages (from langcodes<4.0.0,>=3.2.0->spacy<4.0.0,>=3.4.4->ginza) (1.3.0)\n",
            "Requirement already satisfied: annotated-types>=0.6.0 in /usr/local/lib/python3.12/dist-packages (from pydantic!=1.8,!=1.8.1,<3.0.0,>=1.7.4->spacy<4.0.0,>=3.4.4->ginza) (0.7.0)\n",
            "Requirement already satisfied: pydantic-core==2.33.2 in /usr/local/lib/python3.12/dist-packages (from pydantic!=1.8,!=1.8.1,<3.0.0,>=1.7.4->spacy<4.0.0,>=3.4.4->ginza) (2.33.2)\n",
            "Requirement already satisfied: typing-extensions>=4.12.2 in /usr/local/lib/python3.12/dist-packages (from pydantic!=1.8,!=1.8.1,<3.0.0,>=1.7.4->spacy<4.0.0,>=3.4.4->ginza) (4.15.0)\n",
            "Requirement already satisfied: typing-inspection>=0.4.0 in /usr/local/lib/python3.12/dist-packages (from pydantic!=1.8,!=1.8.1,<3.0.0,>=1.7.4->spacy<4.0.0,>=3.4.4->ginza) (0.4.2)\n",
            "Requirement already satisfied: charset_normalizer<4,>=2 in /usr/local/lib/python3.12/dist-packages (from requests<3.0.0,>=2.13.0->spacy<4.0.0,>=3.4.4->ginza) (3.4.4)\n",
            "Requirement already satisfied: idna<4,>=2.5 in /usr/local/lib/python3.12/dist-packages (from requests<3.0.0,>=2.13.0->spacy<4.0.0,>=3.4.4->ginza) (3.11)\n",
            "Requirement already satisfied: urllib3<3,>=1.21.1 in /usr/local/lib/python3.12/dist-packages (from requests<3.0.0,>=2.13.0->spacy<4.0.0,>=3.4.4->ginza) (2.5.0)\n",
            "Requirement already satisfied: certifi>=2017.4.17 in /usr/local/lib/python3.12/dist-packages (from requests<3.0.0,>=2.13.0->spacy<4.0.0,>=3.4.4->ginza) (2025.10.5)\n",
            "Requirement already satisfied: blis<1.4.0,>=1.3.0 in /usr/local/lib/python3.12/dist-packages (from thinc<8.4.0,>=8.3.4->spacy<4.0.0,>=3.4.4->ginza) (1.3.0)\n",
            "Requirement already satisfied: confection<1.0.0,>=0.0.1 in /usr/local/lib/python3.12/dist-packages (from thinc<8.4.0,>=8.3.4->spacy<4.0.0,>=3.4.4->ginza) (0.1.5)\n",
            "Requirement already satisfied: click>=8.0.0 in /usr/local/lib/python3.12/dist-packages (from typer<1.0.0,>=0.3.0->spacy<4.0.0,>=3.4.4->ginza) (8.3.0)\n",
            "Requirement already satisfied: shellingham>=1.3.0 in /usr/local/lib/python3.12/dist-packages (from typer<1.0.0,>=0.3.0->spacy<4.0.0,>=3.4.4->ginza) (1.5.4)\n",
            "Requirement already satisfied: rich>=10.11.0 in /usr/local/lib/python3.12/dist-packages (from typer<1.0.0,>=0.3.0->spacy<4.0.0,>=3.4.4->ginza) (13.9.4)\n",
            "Requirement already satisfied: cloudpathlib<1.0.0,>=0.7.0 in /usr/local/lib/python3.12/dist-packages (from weasel<0.5.0,>=0.1.0->spacy<4.0.0,>=3.4.4->ginza) (0.23.0)\n",
            "Requirement already satisfied: smart-open<8.0.0,>=5.2.1 in /usr/local/lib/python3.12/dist-packages (from weasel<0.5.0,>=0.1.0->spacy<4.0.0,>=3.4.4->ginza) (7.4.0)\n",
            "Requirement already satisfied: MarkupSafe>=2.0 in /usr/local/lib/python3.12/dist-packages (from jinja2->spacy<4.0.0,>=3.4.4->ginza) (3.0.3)\n",
            "Requirement already satisfied: marisa-trie>=1.1.0 in /usr/local/lib/python3.12/dist-packages (from language-data>=1.2->langcodes<4.0.0,>=3.2.0->spacy<4.0.0,>=3.4.4->ginza) (1.3.1)\n",
            "Requirement already satisfied: markdown-it-py>=2.2.0 in /usr/local/lib/python3.12/dist-packages (from rich>=10.11.0->typer<1.0.0,>=0.3.0->spacy<4.0.0,>=3.4.4->ginza) (4.0.0)\n",
            "Requirement already satisfied: pygments<3.0.0,>=2.13.0 in /usr/local/lib/python3.12/dist-packages (from rich>=10.11.0->typer<1.0.0,>=0.3.0->spacy<4.0.0,>=3.4.4->ginza) (2.19.2)\n",
            "Requirement already satisfied: wrapt in /usr/local/lib/python3.12/dist-packages (from smart-open<8.0.0,>=5.2.1->weasel<0.5.0,>=0.1.0->spacy<4.0.0,>=3.4.4->ginza) (2.0.0)\n",
            "Requirement already satisfied: mdurl~=0.1 in /usr/local/lib/python3.12/dist-packages (from markdown-it-py>=2.2.0->rich>=10.11.0->typer<1.0.0,>=0.3.0->spacy<4.0.0,>=3.4.4->ginza) (0.1.2)\n"
          ]
        }
      ],
      "source": [
        "! pip install gensim\n",
        "! pip install -U ginza ja_ginza\n",
        "\n",
        "# Word2vecのダウンロードには8分程度かかるので気長に待つ。\n",
        "import os\n",
        "from gensim.models import KeyedVectors\n",
        "\n",
        "# word2vec\n",
        "filename = \"20170201.tar.bz2\"\n",
        "url = f\"http://www.cl.ecei.tohoku.ac.jp/~m-suzuki/jawiki_vector/data/{filename}\"\n",
        "\n",
        "# ファイルが存在しない場合のみダウンロードを実行\n",
        "if not os.path.exists(filename):\n",
        "    # 中断するとentity_vector/entity_vector.model.binが生成されず以下のエラーとなる。ランタイムを削除する。\n",
        "    # FileNotFoundError: [Errno 2] No such file or directory: 'entity_vector/entity_vector.model.bin'\n",
        "    os.system(f\"wget {url}\")\n",
        "    os.system(f\"tar -xvjf {filename}\")\n",
        "\n",
        "# モデルのロード含めて30秒程度かかる\n",
        "model_dir = 'entity_vector/entity_vector.model.bin'\n",
        "model = KeyedVectors.load_word2vec_format(\n",
        "    model_dir, binary=True)"
      ]
    },
    {
      "cell_type": "markdown",
      "source": [
        "### 類義語の取得"
      ],
      "metadata": {
        "id": "Azz4YBdB5bxt"
      }
    },
    {
      "cell_type": "code",
      "source": [
        "TOP_N = 30\n",
        "word = '日比谷'\n",
        "\n",
        "results = model.most_similar(word, topn=TOP_N)\n",
        "for result in results:\n",
        "    print(result)"
      ],
      "metadata": {
        "colab": {
          "base_uri": "https://localhost:8080/"
        },
        "id": "4UGrdNY_32c-",
        "outputId": "c5c83bbc-859b-401c-d60a-5dd5b4183b2f"
      },
      "execution_count": 3,
      "outputs": [
        {
          "output_type": "stream",
          "name": "stdout",
          "text": [
            "('[日比谷]', 0.8020889163017273)\n",
            "('代々木', 0.7554340362548828)\n",
            "('池袋', 0.7515247464179993)\n",
            "('市ヶ谷', 0.7447957396507263)\n",
            "('赤坂', 0.7336158752441406)\n",
            "('日本橋', 0.7313567399978638)\n",
            "('吉祥寺', 0.7304186224937439)\n",
            "('新宿', 0.7302600741386414)\n",
            "('[有楽町]', 0.7218155860900879)\n",
            "('丸の内', 0.7200046181678772)\n",
            "('麹町', 0.719078779220581)\n",
            "('目黒', 0.7163709998130798)\n",
            "('高島屋', 0.7140048742294312)\n",
            "('有楽町', 0.7135686278343201)\n",
            "('サンモール', 0.7133216261863708)\n",
            "('世田谷', 0.712195634841919)\n",
            "('幕張', 0.7050204277038574)\n",
            "('[青山_(東京都港区)]', 0.701943576335907)\n",
            "('荻窪', 0.7004520297050476)\n",
            "('代官山', 0.6979202032089233)\n",
            "('高円寺', 0.6950085759162903)\n",
            "('[蒲田]', 0.694953203201294)\n",
            "('千代田', 0.6942139267921448)\n",
            "('[赤坂_(東京都港区)]', 0.693513035774231)\n",
            "('[池袋]', 0.6934029459953308)\n",
            "('恵比寿', 0.6929343938827515)\n",
            "('渋谷', 0.6923547983169556)\n",
            "('梅田', 0.6909371018409729)\n",
            "('銀座', 0.6885918378829956)\n",
            "('四谷', 0.6877546310424805)\n"
          ]
        }
      ]
    },
    {
      "cell_type": "markdown",
      "source": [
        "### ベクトルの計算"
      ],
      "metadata": {
        "id": "XjmP15N64Gah"
      }
    },
    {
      "cell_type": "code",
      "source": [
        "# うまくいく例\n",
        "model.similar_by_vector(model[\"フランス\"]-(model[\"日本\"]-model[\"東京\"]))"
      ],
      "metadata": {
        "colab": {
          "base_uri": "https://localhost:8080/"
        },
        "id": "n14WA9yr5f9u",
        "outputId": "5b15e614-ae08-4b31-f5a3-bf6ff1935d75"
      },
      "execution_count": 4,
      "outputs": [
        {
          "output_type": "execute_result",
          "data": {
            "text/plain": [
              "[('パリ', 0.7044169902801514),\n",
              " ('[パリ]', 0.6613379120826721),\n",
              " ('ミラノ', 0.6109405755996704),\n",
              " ('ベルリン', 0.6060323119163513),\n",
              " ('ロンドン', 0.5957039594650269),\n",
              " ('ウィーン', 0.5881831645965576),\n",
              " ('ブリュッセル', 0.5833532214164734),\n",
              " ('ミュンヘン', 0.5820050835609436),\n",
              " ('東京', 0.5713459849357605),\n",
              " ('ハンブルク', 0.5672899484634399)]"
            ]
          },
          "metadata": {},
          "execution_count": 4
        }
      ]
    },
    {
      "cell_type": "code",
      "source": [
        "# うまくいかない例。なんだこれ。理想の状態なら日比谷のランドマークがでてくる。\n",
        "model.similar_by_vector(model[\"日比谷\"]-(model[\"渋谷\"]-model[\"ハチ公\"]))"
      ],
      "metadata": {
        "colab": {
          "base_uri": "https://localhost:8080/"
        },
        "id": "2adPn77b5hNi",
        "outputId": "291114fb-163b-49d8-e649-1c1ed0cda79f"
      },
      "execution_count": 5,
      "outputs": [
        {
          "output_type": "execute_result",
          "data": {
            "text/plain": [
              "[('鍾乳', 0.3092036545276642),\n",
              " ('[パーマストン子爵ヘンリー・ジョン・テンプル]', 0.3078872859477997),\n",
              " ('キャフェリー', 0.30557936429977417),\n",
              " ('[三色旗]', 0.303909033536911),\n",
              " ('複合構造', 0.3002869188785553),\n",
              " ('[カール・ヴィルヘルム・シェーレ]', 0.2991071939468384),\n",
              " ('[青銅]', 0.29861482977867126),\n",
              " ('[導火線]', 0.29715192317962646),\n",
              " ('[冶金]', 0.29567959904670715),\n",
              " ('フェイシング', 0.29326754808425903)]"
            ]
          },
          "metadata": {},
          "execution_count": 5
        }
      ]
    },
    {
      "cell_type": "markdown",
      "source": [
        "## 音素列間の類似度\n",
        "\n",
        "### 音素への変換"
      ],
      "metadata": {
        "id": "rTKeLMGV9fSd"
      }
    },
    {
      "cell_type": "code",
      "source": [
        "import spacy\n",
        "\n",
        "# Ginzaモデルをロード(読みを取得する目的)\n",
        "nlp = spacy.load('ja_ginza')\n",
        "\n",
        "# ローマ字→カナへの変換\n",
        "def word_to_romaji(text):\n",
        "    doc = nlp(text)\n",
        "    kana_list = []\n",
        "    for sent in doc.sents:\n",
        "        for token in sent:\n",
        "            # 漢字→カナ\n",
        "            kana_list.extend(token.morph.get(\"Reading\"))\n",
        "    # カナ→ローマ字\n",
        "    return kana_to_romaji_conversion(\"\".join(kana_list))\n",
        "\n",
        "# 読み仮名からローマ字への変換辞書\n",
        "# 「チャ」は ti_ya となってしまう程度のナイーブさ\n",
        "kana_to_romaji = {\n",
        "    'ア': 'a', 'イ': 'i', 'ウ': 'u', 'エ': 'e', 'オ': 'o',\n",
        "    'カ': 'ka', 'キ': 'ki', 'ク': 'ku', 'ケ': 'ke', 'コ': 'ko',\n",
        "    'ガ': 'ga', 'ギ': 'gi', 'グ': 'gu', 'ゲ': 'ge', 'ゴ': 'go',\n",
        "    'サ': 'sa', 'シ': 'si', 'ス': 'su', 'セ': 'se', 'ソ': 'so',\n",
        "    'ザ': 'za', 'ジ': 'zi', 'ズ': 'zu', 'ゼ': 'ze', 'ゾ': 'zo',\n",
        "    'タ': 'ta', 'チ': 'ti', 'ツ': 'tu', 'テ': 'te', 'ト': 'to',\n",
        "    'ダ': 'da', 'ヂ': 'di', 'ヅ': 'du', 'デ': 'de', 'ド': 'do',\n",
        "    'ナ': 'na', 'ニ': 'ni', 'ヌ': 'nu', 'ネ': 'ne', 'ノ': 'no',\n",
        "    'ハ': 'ha', 'ヒ': 'hi', 'フ': 'hu', 'ヘ': 'he', 'ホ': 'ho',\n",
        "    'バ': 'ba', 'ビ': 'bi', 'ブ': 'bu', 'ベ': 'be', 'ボ': 'bo',\n",
        "    'パ': 'pa', 'ピ': 'pi', 'プ': 'pu', 'ペ': 'pe', 'ポ': 'po',\n",
        "    'マ': 'ma', 'ミ': 'mi', 'ム': 'mu', 'メ': 'me', 'モ': 'mo',\n",
        "    'ヤ': 'ya', 'ユ': 'yu', 'ヨ': 'yo',\n",
        "    'ラ': 'ra', 'リ': 'ri', 'ル': 'ru', 'レ': 're', 'ロ': 'ro',\n",
        "    'ワ': 'wa', 'ヲ': 'wo', 'ン': 'N',\n",
        "    'ャ': '_ya', 'ュ': '_yu', 'ョ': '_yo',\n",
        "    'ァ': '_a', 'ィ': '_i', 'ゥ': '_u', 'ェ': '_e', 'ォ': '_o',\n",
        "    'ヴ': 'v', 'ッ': 'Q', 'ー': ':',\n",
        "}\n",
        "\n",
        "def kana_to_romaji_conversion(kana_text):\n",
        "    # 元々は促音や長音、幼音の扱いがややこしかったが、シンプルにした\n",
        "    return \"\".join([kana_to_romaji.get(char, \"\") for char in kana_text])"
      ],
      "metadata": {
        "id": "Ey88UBcC5mDS"
      },
      "execution_count": 6,
      "outputs": []
    },
    {
      "cell_type": "code",
      "source": [
        "# 使用例\n",
        "print(word_to_romaji(\"日比谷\"))\n",
        "print(word_to_romaji(\"渋谷\"))"
      ],
      "metadata": {
        "colab": {
          "base_uri": "https://localhost:8080/"
        },
        "id": "uab5sWE-I9sO",
        "outputId": "6ca185fb-2b2b-4d3c-e7e0-df4dfc439cb0"
      },
      "execution_count": 7,
      "outputs": [
        {
          "output_type": "stream",
          "name": "stdout",
          "text": [
            "hibiya\n",
            "sibuya\n"
          ]
        }
      ]
    },
    {
      "cell_type": "markdown",
      "source": [
        "### 音素列同士の比較\n",
        "\n",
        "1. 混合行列の作成\n",
        "2. 混合行列を与えたときの2音素間の編集距離の算出"
      ],
      "metadata": {
        "id": "jh7EZp2O_cTV"
      }
    },
    {
      "cell_type": "code",
      "source": [
        "# サンプルの混合行列の作成。実際は実験や測定で取得する。\n",
        "import itertools\n",
        "import pandas as pd\n",
        "import matplotlib.pyplot as plt\n",
        "\n",
        "# 上で作成したローマ字変換から「音素」のリストを作成\n",
        "single = filter(lambda k_v: len(k_v[1])==1,  kana_to_romaji.items())\n",
        "single = list(map(lambda t: t[1], single))\n",
        "print(single)\n",
        "others = set([v[:-1] for k, v in kana_to_romaji.items()])\n",
        "print(others)  # _は小さい母音、_yは幼音を示す\n",
        "all_phonemes = list(filter(len, others)) + single\n",
        "print(all_phonemes)\n",
        "\n",
        "# サンプルとして、文字列 \"ksth\" から全組み合わせのデカルト積を作成する\n",
        "combinations = list(itertools.product(\"ktsh\", repeat=2))\n",
        "# combinations += list(itertools.product(\"bd\", repeat=2))\n",
        "# combinations += list(itertools.product(\"mn\", repeat=2))\n",
        "# combinations += list(itertools.product(\"iu\", repeat=2))\n",
        "combinations = list(filter(lambda ij: ij[0]!=ij[1], combinations))\n",
        "\n",
        "confusion_matrix = pd.DataFrame(0, index=all_phonemes, columns=all_phonemes)  # 初期値は0\n",
        "\n",
        "# 対角成分を1に設定\n",
        "N = len(all_phonemes)\n",
        "for i in range(N):\n",
        "  confusion_matrix.iat[i, i] = 1\n",
        "\n",
        "for stim, res in combinations:\n",
        "    # 一般的にsrc->tgtだが、\n",
        "    # 論文に合わせてCMは列にstim(src)を持たせている\n",
        "    confusion_matrix.loc[res, stim] += 1\n",
        "\n",
        "# 行列をimshowを使用して可視化\n",
        "plt.figure(figsize=(5, 5))\n",
        "plt.imshow(confusion_matrix, cmap=\"viridis\")  # 任意のカラーマップを指定できます\n",
        "plt.colorbar(label=\"Value\")\n",
        "plt.xticks(ticks=range(N), labels=all_phonemes, rotation=90, fontsize=12)  # フォントサイズを設定\n",
        "plt.yticks(ticks=range(N), labels=all_phonemes, fontsize=12)  # フォントサイズを設定\n",
        "plt.xlabel(\"Stimulus\")\n",
        "plt.ylabel(\"Response\")\n",
        "plt.title(\"Phoneme Matrix Visualization\")\n",
        "plt.tight_layout()\n",
        "plt.show()"
      ],
      "metadata": {
        "colab": {
          "base_uri": "https://localhost:8080/",
          "height": 557
        },
        "id": "OIZmqcW1B2lQ",
        "outputId": "4281d6ab-f9a4-456f-8b85-a81f0da24a7f"
      },
      "execution_count": 8,
      "outputs": [
        {
          "output_type": "stream",
          "name": "stdout",
          "text": [
            "['a', 'i', 'u', 'e', 'o', 'N', 'v', 'Q', ':']\n",
            "{'', 'w', 'm', 'r', 'k', 's', 'n', '_', 'd', 't', 'b', 'h', 'y', 'p', '_y', 'z', 'g'}\n",
            "['w', 'm', 'r', 'k', 's', 'n', '_', 'd', 't', 'b', 'h', 'y', 'p', '_y', 'z', 'g', 'a', 'i', 'u', 'e', 'o', 'N', 'v', 'Q', ':']\n"
          ]
        },
        {
          "output_type": "display_data",
          "data": {
            "text/plain": [
              "<Figure size 500x500 with 2 Axes>"
            ],
            "image/png": "[encoded data removed]"
          },
          "metadata": {}
        }
      ]
    },
    {
      "cell_type": "code",
      "source": [
        "from scipy.special import softmax\n",
        "\n",
        "def cost_phoneme(cm, stim, resp):\n",
        "    # こちらは編集コスト: 同じ知覚なら0\n",
        "    # 一般的にsrc->tgtだが、\n",
        "    # 論文に合わせてCMは列にstim(src)を持たせている\n",
        "    return 1-cm.loc[resp, stim]\n",
        "\n",
        "def compute_distance(cm, s1: list[str], s2: list[str]):\n",
        "    len_s1 = len(s1)\n",
        "    len_s2 = len(s2)\n",
        "\n",
        "    # DPテーブルの初期化\n",
        "    dp = [[0 for _ in range(len_s2 + 1)] for _ in range(len_s1 + 1)]\n",
        "    for i in range(len_s1 + 1):\n",
        "        for j in range(len_s2 + 1):\n",
        "            if i == 0:\n",
        "                dp[i][j] = j\n",
        "            elif j == 0:\n",
        "                dp[i][j] = i\n",
        "            else:\n",
        "                cost = cost_phoneme(cm, s1[i-1], s2[j-1])\n",
        "                insert = dp[i][j - 1] + 1\n",
        "                delete = dp[i - 1][j] + 1\n",
        "                replace = dp[i - 1][j - 1] + cost\n",
        "                dp[i][j] = min(insert, delete, replace)\n",
        "\n",
        "    return dp[len_s1][len_s2]\n",
        "\n",
        "s1 = ['h', 'i', 'b', 'i', 'y', 'a']\n",
        "s2 = ['s', 'i', 'b', 'u', 'y', 'a']\n",
        "\n",
        "similarity = compute_distance(confusion_matrix, s1, s2)\n",
        "print(similarity)"
      ],
      "metadata": {
        "colab": {
          "base_uri": "https://localhost:8080/"
        },
        "id": "IKTIhdIpJDqv",
        "outputId": "2d38a913-e340-4796-a904-fd479a867736"
      },
      "execution_count": 9,
      "outputs": [
        {
          "output_type": "stream",
          "name": "stdout",
          "text": [
            "1\n"
          ]
        }
      ]
    },
    {
      "cell_type": "markdown",
      "source": [
        "## 確率の考慮"
      ],
      "metadata": {
        "id": "AExGoAjFHYuh"
      }
    },
    {
      "cell_type": "code",
      "source": [
        "import pandas as pd\n",
        "import requests\n",
        "from io import BytesIO\n",
        "\n",
        "# ファイルIDを使用してダウンロードURLを作成\n",
        "file_id = '1L9h-NYghhqqOSZ6IbcT1Ja3eqSX8xnfd'\n",
        "download_url = f\"https://drive.google.com/uc?id={file_id}\"\n",
        "\n",
        "# https://drive.google.com/file/d/1L9h-NYghhqqOSZ6IbcT1Ja3eqSX8xnfd/view\n",
        "\n",
        "# ファイルをダウンロード\n",
        "response = requests.get(download_url)\n",
        "response.raise_for_status()\n",
        "data = BytesIO(response.content)\n",
        "word_freq = pd.read_pickle(data)\n",
        "\n",
        "# 全単語の出現回数の合計を計算\n",
        "total_words = sum(word_freq.values())\n",
        "print(f\"Word count size: {total_words}\")\n",
        "\n",
        "# 各単語の確率を計算\n",
        "word_prob = {word: freq / total_words for word, freq in word_freq.items()}\n",
        "\n",
        "for word in [\"渋谷\", \"日比谷\"]:\n",
        "    print(f\"{word}の頻度: {word_freq[word]}\")\n",
        "\n",
        "# 確認のため、いくつかの単語の確率を出力\n",
        "for word in [\"渋谷\", \"日比谷\"]:\n",
        "    print(f\"Probability of '{word}': {word_prob.get(word, 0)}\")\n",
        "\n",
        "vocabulary_size = len(word_freq)\n",
        "print(f\"Vocabulary size: {vocabulary_size}\")"
      ],
      "metadata": {
        "colab": {
          "base_uri": "https://localhost:8080/"
        },
        "id": "jI0LBDh4BgQc",
        "outputId": "686eae6f-066c-4265-9d23-f28ba78e7c68"
      },
      "execution_count": 10,
      "outputs": [
        {
          "output_type": "stream",
          "name": "stdout",
          "text": [
            "Word count size: 4429337\n",
            "渋谷の頻度: 78\n",
            "日比谷の頻度: 11\n",
            "Probability of '渋谷': 1.760985899244063e-05\n",
            "Probability of '日比谷': 2.4834416527800887e-06\n",
            "Vocabulary size: 206060\n"
          ]
        }
      ]
    },
    {
      "cell_type": "markdown",
      "source": [
        "## 聞き間違いやすい語の特定"
      ],
      "metadata": {
        "id": "PQgwA0yqKba1"
      }
    },
    {
      "cell_type": "code",
      "source": [
        "### 1. 単語の指定\n",
        "# intended_word = '小説' # -> NA\n",
        "i# ntended_word = 'ティッシュ' # -> NA (フィッシュ...は違いすぎるのか)\n",
        "intended_word = \"千駄ヶ谷\"  # -> NA\n",
        "intended_word = '拍手' # -> 握手 in 1st\n",
        "intended_word = '市ヶ谷' # -> 握手 in 1st\n",
        "intended_word = '灘' # -> 握手 in 1st\n",
        "intended_word = '稲城' # -> 稲毛 in 2nd\n",
        "intended_word = '日比谷'# -> 渋谷 in 2nd\n",
        "\n",
        "import re\n",
        "# パターンは、すべての音素を\"|\"で連結して生成\n",
        "# all_phonemes の中の要素のみで最長マッチ\n",
        "pattern = \"|\".join(sorted(all_phonemes, key=len, reverse=True))\n",
        "\n",
        "def decompose_string(s, pattern):\n",
        "    return re.findall(pattern, s)\n",
        "\n",
        "intended_speech: list[str] = decompose_string(word_to_romaji(intended_word), pattern)\n",
        "print(intended_speech)\n",
        "\n",
        "### 2. 類似性の高い単語リストの取得\n",
        "TOP_N = 1000\n",
        "candidates = [(intended_word, 1)] + model.most_similar(intended_word, topn=TOP_N)\n",
        "candidates[:20]\n",
        "\n",
        "# データフレームの作成\n",
        "df = pd.DataFrame(candidates, columns=[\"entity\", \"similarity\"])\n",
        "\n",
        "# 無駄な記号の削除: 青山_(東京都港区) -> 青山\n",
        "df[\"entity\"] = df[\"entity\"].str.split(\"_\").str[0]\n",
        "df[\"entity\"] = df[\"entity\"].str.replace(r'[^\\w]', '', regex=True)\n",
        "df_grouped = df.groupby('entity')['similarity'].mean().reset_index()\n",
        "df = df_grouped\n",
        "\n",
        "df = df.sort_values(by='similarity', ascending=False).reset_index(drop=True)\n",
        "\n",
        "### 3. 音素に変換し、距離を計算\n",
        "# phonemeの追加\n",
        "# ここ、やけに時間かかる(word_to_romajiが原因か)\n",
        "df[\"phoneme\"] = df[\"entity\"].apply(word_to_romaji).apply(lambda s: decompose_string(s, pattern))\n",
        "\n",
        "# audio_distanceの計算\n",
        "# ここのintended_speechなどはcかvに分割したlist[str]じゃないとだめ。\n",
        "df[\"audio_distance\"] = df.apply(lambda row: compute_distance(cm=confusion_matrix, s1=intended_speech, s2=row[\"phoneme\"]), axis=1)\n",
        "\n",
        "### 4. 確率の追加\n",
        "df[\"freq\"] = df[\"entity\"].apply(lambda x: word_freq.get(x, 0))\n",
        "import numpy as np\n",
        "\n",
        "### 5. 対数スケールにする\n",
        "# freqの対数を取る\n",
        "df['freq_log'] = np.log1p(df['freq'])\n",
        "df['audio_distance_log'] = np.log1p(df['audio_distance'])\n",
        "df['similarity_log'] = np.log1p(df['similarity'])\n",
        "\n",
        "# min-max scalingを定義\n",
        "def min_max_scaling(series):\n",
        "    return (series - series.min()) / (series.max() - series.min())\n",
        "\n",
        "# 各列に対してmin-max scalingを適用し、新しい列を作成\n",
        "df['freq_log_s'] = min_max_scaling(df['freq_log'])\n",
        "df['audio_distance_log_s'] = min_max_scaling(df['audio_distance_log'])\n",
        "# 全て方向を揃える\n",
        "df['audio_similarity_log_s'] = 1 - df['audio_distance_log_s']\n",
        "df['similarity_log_s'] = min_max_scaling(df['similarity_log'])\n",
        "\n",
        "import numpy as np\n",
        "df.query(\"audio_similarity_log_s > 0.7\").sort_values(by='freq_log_s', ascending=False)"
      ],
      "metadata": {
        "colab": {
          "base_uri": "https://localhost:8080/",
          "height": 129
        },
        "id": "xa0iY8bsHlP7",
        "outputId": "7af6ed89-729f-4392-e5af-5d3c635950d9"
      },
      "execution_count": 11,
      "outputs": [
        {
          "output_type": "stream",
          "name": "stdout",
          "text": [
            "['h', 'i', 'b', 'i', 'y', 'a']\n"
          ]
        },
        {
          "output_type": "execute_result",
          "data": {
            "text/plain": [
              "   entity  similarity             phoneme  audio_distance  freq  freq_log  \\\n",
              "27     渋谷    0.663863  [s, i, b, u, y, a]               1    78  4.369448   \n",
              "0     日比谷    0.901044  [h, i, b, i, y, a]               0    11  2.484907   \n",
              "\n",
              "    audio_distance_log  similarity_log  freq_log_s  audio_distance_log_s  \\\n",
              "27            0.693147        0.509142    0.575966               0.21031   \n",
              "0             0.000000        0.642403    0.327552               0.00000   \n",
              "\n",
              "    audio_similarity_log_s  similarity_log_s  \n",
              "27                 0.78969          0.395362  \n",
              "0                  1.00000          1.000000  "
            ],
            "text/html": [
              "\n",
              "  <div id=\"df-d8a27526-6597-4b8e-94cd-5632cb478495\" class=\"colab-df-container\">\n",
              "    <div>\n",
              "<style scoped>\n",
              "    .dataframe tbody tr th:only-of-type {\n",
              "        vertical-align: middle;\n",
              "    }\n",
              "\n",
              "    .dataframe tbody tr th {\n",
              "        vertical-align: top;\n",
              "    }\n",
              "\n",
              "    .dataframe thead th {\n",
              "        text-align: right;\n",
              "    }\n",
              "</style>\n",
              "<table border=\"1\" class=\"dataframe\">\n",
              "  <thead>\n",
              "    <tr style=\"text-align: right;\">\n",
              "      <th></th>\n",
              "      <th>entity</th>\n",
              "      <th>similarity</th>\n",
              "      <th>phoneme</th>\n",
              "      <th>audio_distance</th>\n",
              "      <th>freq</th>\n",
              "      <th>freq_log</th>\n",
              "      <th>audio_distance_log</th>\n",
              "      <th>similarity_log</th>\n",
              "      <th>freq_log_s</th>\n",
              "      <th>audio_distance_log_s</th>\n",
              "      <th>audio_similarity_log_s</th>\n",
              "      <th>similarity_log_s</th>\n",
              "    </tr>\n",
              "  </thead>\n",
              "  <tbody>\n",
              "    <tr>\n",
              "      <th>27</th>\n",
              "      <td>渋谷</td>\n",
              "      <td>0.663863</td>\n",
              "      <td>[s, i, b, u, y, a]</td>\n",
              "      <td>1</td>\n",
              "      <td>78</td>\n",
              "      <td>4.369448</td>\n",
              "      <td>0.693147</td>\n",
              "      <td>0.509142</td>\n",
              "      <td>0.575966</td>\n",
              "      <td>0.21031</td>\n",
              "      <td>0.78969</td>\n",
              "      <td>0.395362</td>\n",
              "    </tr>\n",
              "    <tr>\n",
              "      <th>0</th>\n",
              "      <td>日比谷</td>\n",
              "      <td>0.901044</td>\n",
              "      <td>[h, i, b, i, y, a]</td>\n",
              "      <td>0</td>\n",
              "      <td>11</td>\n",
              "      <td>2.484907</td>\n",
              "      <td>0.000000</td>\n",
              "      <td>0.642403</td>\n",
              "      <td>0.327552</td>\n",
              "      <td>0.00000</td>\n",
              "      <td>1.00000</td>\n",
              "      <td>1.000000</td>\n",
              "    </tr>\n",
              "  </tbody>\n",
              "</table>\n",
              "</div>\n",
              "    <div class=\"colab-df-buttons\">\n",
              "\n",
              "  <div class=\"colab-df-container\">\n",
              "    <button class=\"colab-df-convert\" onclick=\"convertToInteractive('df-d8a27526-6597-4b8e-94cd-5632cb478495')\"\n",
              "            title=\"Convert this dataframe to an interactive table.\"\n",
              "            style=\"display:none;\">\n",
              "\n",
              "  <svg xmlns=\"http://www.w3.org/2000/svg\" height=\"24px\" viewBox=\"0 -960 960 960\">\n",
              "    <path d=\"M120-120v-720h720v720H120Zm60-500h600v-160H180v160Zm220 220h160v-160H400v160Zm0 220h160v-160H400v160ZM180-400h160v-160H180v160Zm440 0h160v-160H620v160ZM180-180h160v-160H180v160Zm440 0h160v-160H620v160Z\"/>\n",
              "  </svg>\n",
              "    </button>\n",
              "\n",
              "  <style>\n",
              "    .colab-df-container {\n",
              "      display:flex;\n",
              "      gap: 12px;\n",
              "    }\n",
              "\n",
              "    .colab-df-convert {\n",
              "      background-color: #E8F0FE;\n",
              "      border: none;\n",
              "      border-radius: 50%;\n",
              "      cursor: pointer;\n",
              "      display: none;\n",
              "      fill: #1967D2;\n",
              "      height: 32px;\n",
              "      padding: 0 0 0 0;\n",
              "      width: 32px;\n",
              "    }\n",
              "\n",
              "    .colab-df-convert:hover {\n",
              "      background-color: #E2EBFA;\n",
              "      box-shadow: 0px 1px 2px rgba(60, 64, 67, 0.3), 0px 1px 3px 1px rgba(60, 64, 67, 0.15);\n",
              "      fill: #174EA6;\n",
              "    }\n",
              "\n",
              "    .colab-df-buttons div {\n",
              "      margin-bottom: 4px;\n",
              "    }\n",
              "\n",
              "    [theme=dark] .colab-df-convert {\n",
              "      background-color: #3B4455;\n",
              "      fill: #D2E3FC;\n",
              "    }\n",
              "\n",
              "    [theme=dark] .colab-df-convert:hover {\n",
              "      background-color: #434B5C;\n",
              "      box-shadow: 0px 1px 3px 1px rgba(0, 0, 0, 0.15);\n",
              "      filter: drop-shadow(0px 1px 2px rgba(0, 0, 0, 0.3));\n",
              "      fill: #FFFFFF;\n",
              "    }\n",
              "  </style>\n",
              "\n",
              "    <script>\n",
              "      const buttonEl =\n",
              "        document.querySelector('#df-d8a27526-6597-4b8e-94cd-5632cb478495 button.colab-df-convert');\n",
              "      buttonEl.style.display =\n",
              "        google.colab.kernel.accessAllowed ? 'block' : 'none';\n",
              "\n",
              "      async function convertToInteractive(key) {\n",
              "        const element = document.querySelector('#df-d8a27526-6597-4b8e-94cd-5632cb478495');\n",
              "        const dataTable =\n",
              "          await google.colab.kernel.invokeFunction('convertToInteractive',\n",
              "                                                    [key], {});\n",
              "        if (!dataTable) return;\n",
              "\n",
              "        const docLinkHtml = 'Like what you see? Visit the ' +\n",
              "          '<a target=\"_blank\" href=https://colab.research.google.com/notebooks/data_table.ipynb>data table notebook</a>'\n",
              "          + ' to learn more about interactive tables.';\n",
              "        element.innerHTML = '';\n",
              "        dataTable['output_type'] = 'display_data';\n",
              "        await google.colab.output.renderOutput(dataTable, element);\n",
              "        const docLink = document.createElement('div');\n",
              "        docLink.innerHTML = docLinkHtml;\n",
              "        element.appendChild(docLink);\n",
              "      }\n",
              "    </script>\n",
              "  </div>\n",
              "\n",
              "\n",
              "    <div id=\"df-6ae5cacf-9284-4ff3-be5f-cb6f5634fd42\">\n",
              "      <button class=\"colab-df-quickchart\" onclick=\"quickchart('df-6ae5cacf-9284-4ff3-be5f-cb6f5634fd42')\"\n",
              "                title=\"Suggest charts\"\n",
              "                style=\"display:none;\">\n",
              "\n",
              "<svg xmlns=\"http://www.w3.org/2000/svg\" height=\"24px\"viewBox=\"0 0 24 24\"\n",
              "     width=\"24px\">\n",
              "    <g>\n",
              "        <path d=\"M19 3H5c-1.1 0-2 .9-2 2v14c0 1.1.9 2 2 2h14c1.1 0 2-.9 2-2V5c0-1.1-.9-2-2-2zM9 17H7v-7h2v7zm4 0h-2V7h2v10zm4 0h-2v-4h2v4z\"/>\n",
              "    </g>\n",
              "</svg>\n",
              "      </button>\n",
              "\n",
              "<style>\n",
              "  .colab-df-quickchart {\n",
              "      --bg-color: #E8F0FE;\n",
              "      --fill-color: #1967D2;\n",
              "      --hover-bg-color: #E2EBFA;\n",
              "      --hover-fill-color: #174EA6;\n",
              "      --disabled-fill-color: #AAA;\n",
              "      --disabled-bg-color: #DDD;\n",
              "  }\n",
              "\n",
              "  [theme=dark] .colab-df-quickchart {\n",
              "      --bg-color: #3B4455;\n",
              "      --fill-color: #D2E3FC;\n",
              "      --hover-bg-color: #434B5C;\n",
              "      --hover-fill-color: #FFFFFF;\n",
              "      --disabled-bg-color: #3B4455;\n",
              "      --disabled-fill-color: #666;\n",
              "  }\n",
              "\n",
              "  .colab-df-quickchart {\n",
              "    background-color: var(--bg-color);\n",
              "    border: none;\n",
              "    border-radius: 50%;\n",
              "    cursor: pointer;\n",
              "    display: none;\n",
              "    fill: var(--fill-color);\n",
              "    height: 32px;\n",
              "    padding: 0;\n",
              "    width: 32px;\n",
              "  }\n",
              "\n",
              "  .colab-df-quickchart:hover {\n",
              "    background-color: var(--hover-bg-color);\n",
              "    box-shadow: 0 1px 2px rgba(60, 64, 67, 0.3), 0 1px 3px 1px rgba(60, 64, 67, 0.15);\n",
              "    fill: var(--button-hover-fill-color);\n",
              "  }\n",
              "\n",
              "  .colab-df-quickchart-complete:disabled,\n",
              "  .colab-df-quickchart-complete:disabled:hover {\n",
              "    background-color: var(--disabled-bg-color);\n",
              "    fill: var(--disabled-fill-color);\n",
              "    box-shadow: none;\n",
              "  }\n",
              "\n",
              "  .colab-df-spinner {\n",
              "    border: 2px solid var(--fill-color);\n",
              "    border-color: transparent;\n",
              "    border-bottom-color: var(--fill-color);\n",
              "    animation:\n",
              "      spin 1s steps(1) infinite;\n",
              "  }\n",
              "\n",
              "  @keyframes spin {\n",
              "    0% {\n",
              "      border-color: transparent;\n",
              "      border-bottom-color: var(--fill-color);\n",
              "      border-left-color: var(--fill-color);\n",
              "    }\n",
              "    20% {\n",
              "      border-color: transparent;\n",
              "      border-left-color: var(--fill-color);\n",
              "      border-top-color: var(--fill-color);\n",
              "    }\n",
              "    30% {\n",
              "      border-color: transparent;\n",
              "      border-left-color: var(--fill-color);\n",
              "      border-top-color: var(--fill-color);\n",
              "      border-right-color: var(--fill-color);\n",
              "    }\n",
              "    40% {\n",
              "      border-color: transparent;\n",
              "      border-right-color: var(--fill-color);\n",
              "      border-top-color: var(--fill-color);\n",
              "    }\n",
              "    60% {\n",
              "      border-color: transparent;\n",
              "      border-right-color: var(--fill-color);\n",
              "    }\n",
              "    80% {\n",
              "      border-color: transparent;\n",
              "      border-right-color: var(--fill-color);\n",
              "      border-bottom-color: var(--fill-color);\n",
              "    }\n",
              "    90% {\n",
              "      border-color: transparent;\n",
              "      border-bottom-color: var(--fill-color);\n",
              "    }\n",
              "  }\n",
              "</style>\n",
              "\n",
              "      <script>\n",
              "        async function quickchart(key) {\n",
              "          const quickchartButtonEl =\n",
              "            document.querySelector('#' + key + ' button');\n",
              "          quickchartButtonEl.disabled = true;  // To prevent multiple clicks.\n",
              "          quickchartButtonEl.classList.add('colab-df-spinner');\n",
              "          try {\n",
              "            const charts = await google.colab.kernel.invokeFunction(\n",
              "                'suggestCharts', [key], {});\n",
              "          } catch (error) {\n",
              "            console.error('Error during call to suggestCharts:', error);\n",
              "          }\n",
              "          quickchartButtonEl.classList.remove('colab-df-spinner');\n",
              "          quickchartButtonEl.classList.add('colab-df-quickchart-complete');\n",
              "        }\n",
              "        (() => {\n",
              "          let quickchartButtonEl =\n",
              "            document.querySelector('#df-6ae5cacf-9284-4ff3-be5f-cb6f5634fd42 button');\n",
              "          quickchartButtonEl.style.display =\n",
              "            google.colab.kernel.accessAllowed ? 'block' : 'none';\n",
              "        })();\n",
              "      </script>\n",
              "    </div>\n",
              "\n",
              "    </div>\n",
              "  </div>\n"
            ],
            "application/vnd.google.colaboratory.intrinsic+json": {
              "type": "dataframe",
              "summary": "{\n  \"name\": \"df\",\n  \"rows\": 2,\n  \"fields\": [\n    {\n      \"column\": \"entity\",\n      \"properties\": {\n        \"dtype\": \"string\",\n        \"num_unique_values\": 2,\n        \"samples\": [\n          \"\\u65e5\\u6bd4\\u8c37\",\n          \"\\u6e0b\\u8c37\"\n        ],\n        \"semantic_type\": \"\",\n        \"description\": \"\"\n      }\n    },\n    {\n      \"column\": \"similarity\",\n      \"properties\": {\n        \"dtype\": \"number\",\n        \"std\": 0.16771257298245976,\n        \"min\": 0.6638630628585815,\n        \"max\": 0.9010444581508636,\n        \"num_unique_values\": 2,\n        \"samples\": [\n          0.9010444581508636,\n          0.6638630628585815\n        ],\n        \"semantic_type\": \"\",\n        \"description\": \"\"\n      }\n    },\n    {\n      \"column\": \"phoneme\",\n      \"properties\": {\n        \"dtype\": \"object\",\n        \"semantic_type\": \"\",\n        \"description\": \"\"\n      }\n    },\n    {\n      \"column\": \"audio_distance\",\n      \"properties\": {\n        \"dtype\": \"number\",\n        \"std\": 0,\n        \"min\": 0,\n        \"max\": 1,\n        \"num_unique_values\": 2,\n        \"samples\": [\n          0,\n          1\n        ],\n        \"semantic_type\": \"\",\n        \"description\": \"\"\n      }\n    },\n    {\n      \"column\": \"freq\",\n      \"properties\": {\n        \"dtype\": \"number\",\n        \"std\": 47,\n        \"min\": 11,\n        \"max\": 78,\n        \"num_unique_values\": 2,\n        \"samples\": [\n          11,\n          78\n        ],\n        \"semantic_type\": \"\",\n        \"description\": \"\"\n      }\n    },\n    {\n      \"column\": \"freq_log\",\n      \"properties\": {\n        \"dtype\": \"number\",\n        \"std\": 1.3325718638397877,\n        \"min\": 2.4849066497880004,\n        \"max\": 4.3694478524670215,\n        \"num_unique_values\": 2,\n        \"samples\": [\n          2.4849066497880004,\n          4.3694478524670215\n        ],\n        \"semantic_type\": \"\",\n        \"description\": \"\"\n      }\n    },\n    {\n      \"column\": \"audio_distance_log\",\n      \"properties\": {\n        \"dtype\": \"number\",\n        \"std\": 0.49012907173427356,\n        \"min\": 0.0,\n        \"max\": 0.6931471805599453,\n        \"num_unique_values\": 2,\n        \"samples\": [\n          0.0,\n          0.6931471805599453\n        ],\n        \"semantic_type\": \"\",\n        \"description\": \"\"\n      }\n    },\n    {\n      \"column\": \"similarity_log\",\n      \"properties\": {\n        \"dtype\": \"number\",\n        \"std\": 0.09423004307049457,\n        \"min\": 0.5091420450575042,\n        \"max\": 0.6424034499507985,\n        \"num_unique_values\": 2,\n        \"samples\": [\n          0.6424034499507985,\n          0.5091420450575042\n        ],\n        \"semantic_type\": \"\",\n        \"description\": \"\"\n      }\n    },\n    {\n      \"column\": \"freq_log_s\",\n      \"properties\": {\n        \"dtype\": \"number\",\n        \"std\": 0.1756551299721019,\n        \"min\": 0.3275520160536193,\n        \"max\": 0.5759658831605745,\n        \"num_unique_values\": 2,\n        \"samples\": [\n          0.3275520160536193,\n          0.5759658831605745\n        ],\n        \"semantic_type\": \"\",\n        \"description\": \"\"\n      }\n    },\n    {\n      \"column\": \"audio_distance_log_s\",\n      \"properties\": {\n        \"dtype\": \"number\",\n        \"std\": 0.1487115690675783,\n        \"min\": 0.0,\n        \"max\": 0.21030991785715247,\n        \"num_unique_values\": 2,\n        \"samples\": [\n          0.0,\n          0.21030991785715247\n        ],\n        \"semantic_type\": \"\",\n        \"description\": \"\"\n      }\n    },\n    {\n      \"column\": \"audio_similarity_log_s\",\n      \"properties\": {\n        \"dtype\": \"number\",\n        \"std\": 0.1487115690675783,\n        \"min\": 0.7896900821428475,\n        \"max\": 1.0,\n        \"num_unique_values\": 2,\n        \"samples\": [\n          1.0,\n          0.7896900821428475\n        ],\n        \"semantic_type\": \"\",\n        \"description\": \"\"\n      }\n    },\n    {\n      \"column\": \"similarity_log_s\",\n      \"properties\": {\n        \"dtype\": \"number\",\n        \"std\": 0.42754340421821396,\n        \"min\": 0.39536231925143944,\n        \"max\": 1.0,\n        \"num_unique_values\": 2,\n        \"samples\": [\n          1.0,\n          0.39536231925143944\n        ],\n        \"semantic_type\": \"\",\n        \"description\": \"\"\n      }\n    }\n  ]\n}"
            }
          },
          "metadata": {},
          "execution_count": 11
        }
      ]
    }
  ]
}