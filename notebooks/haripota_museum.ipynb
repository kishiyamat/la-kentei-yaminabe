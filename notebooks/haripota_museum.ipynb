{
  "nbformat": 4,
  "nbformat_minor": 0,
  "metadata": {
    "colab": {
      "provenance": [],
      "authorship_tag": "ABX9TyNGdRYhDZ/I8HLlnzCOO3GA",
      "include_colab_link": true
    },
    "kernelspec": {
      "name": "python3",
      "display_name": "Python 3"
    },
    "language_info": {
      "name": "python"
    }
  },
  "cells": [
    {
      "cell_type": "markdown",
      "metadata": {
        "id": "view-in-github",
        "colab_type": "text"
      },
      "source": [
        "<a href=\"https://colab.research.google.com/github/kishiyamat/la-kentei-yaminabe/blob/main/notebooks/haripota_museum.ipynb\" target=\"_parent\"><img src=\"https://colab.research.google.com/assets/colab-badge.svg\" alt=\"Open In Colab\"/></a>"
      ]
    },
    {
      "cell_type": "markdown",
      "source": [
        "## 魔法世界の裏側は博物館？\n",
        "\n",
        "1. 必要なライブラリーのインストール\n",
        "1. TFIDFの作成とUMAPによる可視化\n",
        "1. ロジスティック回帰による分類実験"
      ],
      "metadata": {
        "id": "5U3sH-FX6pju"
      }
    },
    {
      "cell_type": "code",
      "execution_count": 1,
      "metadata": {
        "colab": {
          "base_uri": "https://localhost:8080/"
        },
        "id": "9rs22Xy12-eE",
        "outputId": "72f6e7be-e04b-431e-b83e-a421c0f56169"
      },
      "outputs": [
        {
          "output_type": "stream",
          "name": "stdout",
          "text": [
            "Requirement already satisfied: spacy in /usr/local/lib/python3.10/dist-packages (3.6.1)\n",
            "Collecting spacy\n",
            "  Using cached spacy-3.7.2-cp310-cp310-manylinux_2_17_x86_64.manylinux2014_x86_64.whl (6.6 MB)\n",
            "Requirement already satisfied: ginza in /usr/local/lib/python3.10/dist-packages (5.1.3)\n",
            "Requirement already satisfied: ja_ginza in /usr/local/lib/python3.10/dist-packages (5.1.3)\n",
            "Requirement already satisfied: spacy-legacy<3.1.0,>=3.0.11 in /usr/local/lib/python3.10/dist-packages (from spacy) (3.0.12)\n",
            "Requirement already satisfied: spacy-loggers<2.0.0,>=1.0.0 in /usr/local/lib/python3.10/dist-packages (from spacy) (1.0.5)\n",
            "Requirement already satisfied: murmurhash<1.1.0,>=0.28.0 in /usr/local/lib/python3.10/dist-packages (from spacy) (1.0.10)\n",
            "Requirement already satisfied: cymem<2.1.0,>=2.0.2 in /usr/local/lib/python3.10/dist-packages (from spacy) (2.0.8)\n",
            "Requirement already satisfied: preshed<3.1.0,>=3.0.2 in /usr/local/lib/python3.10/dist-packages (from spacy) (3.0.9)\n",
            "Requirement already satisfied: thinc<8.3.0,>=8.1.8 in /usr/local/lib/python3.10/dist-packages (from spacy) (8.1.12)\n",
            "Requirement already satisfied: wasabi<1.2.0,>=0.9.1 in /usr/local/lib/python3.10/dist-packages (from spacy) (1.1.2)\n",
            "Requirement already satisfied: srsly<3.0.0,>=2.4.3 in /usr/local/lib/python3.10/dist-packages (from spacy) (2.4.8)\n",
            "Requirement already satisfied: catalogue<2.1.0,>=2.0.6 in /usr/local/lib/python3.10/dist-packages (from spacy) (2.0.10)\n",
            "Collecting weasel<0.4.0,>=0.1.0 (from spacy)\n",
            "  Using cached weasel-0.3.3-py3-none-any.whl (49 kB)\n",
            "Requirement already satisfied: typer<0.10.0,>=0.3.0 in /usr/local/lib/python3.10/dist-packages (from spacy) (0.9.0)\n",
            "Requirement already satisfied: smart-open<7.0.0,>=5.2.1 in /usr/local/lib/python3.10/dist-packages (from spacy) (6.4.0)\n",
            "Requirement already satisfied: tqdm<5.0.0,>=4.38.0 in /usr/local/lib/python3.10/dist-packages (from spacy) (4.66.1)\n",
            "Requirement already satisfied: requests<3.0.0,>=2.13.0 in /usr/local/lib/python3.10/dist-packages (from spacy) (2.31.0)\n",
            "Requirement already satisfied: pydantic!=1.8,!=1.8.1,<3.0.0,>=1.7.4 in /usr/local/lib/python3.10/dist-packages (from spacy) (1.10.13)\n",
            "Requirement already satisfied: jinja2 in /usr/local/lib/python3.10/dist-packages (from spacy) (3.1.2)\n",
            "Requirement already satisfied: setuptools in /usr/local/lib/python3.10/dist-packages (from spacy) (67.7.2)\n",
            "Requirement already satisfied: packaging>=20.0 in /usr/local/lib/python3.10/dist-packages (from spacy) (23.2)\n",
            "Requirement already satisfied: langcodes<4.0.0,>=3.2.0 in /usr/local/lib/python3.10/dist-packages (from spacy) (3.3.0)\n",
            "Requirement already satisfied: numpy>=1.19.0 in /usr/local/lib/python3.10/dist-packages (from spacy) (1.23.5)\n",
            "Requirement already satisfied: plac>=1.3.3 in /usr/local/lib/python3.10/dist-packages (from ginza) (1.4.0)\n",
            "Requirement already satisfied: SudachiPy<0.7.0,>=0.6.2 in /usr/local/lib/python3.10/dist-packages (from ginza) (0.6.7)\n",
            "Requirement already satisfied: SudachiDict-core>=20210802 in /usr/local/lib/python3.10/dist-packages (from ginza) (20230927)\n",
            "Requirement already satisfied: pathy>=0.10.0 in /usr/local/lib/python3.10/dist-packages (from spacy) (0.10.2)\n",
            "Requirement already satisfied: typing-extensions>=4.2.0 in /usr/local/lib/python3.10/dist-packages (from pydantic!=1.8,!=1.8.1,<3.0.0,>=1.7.4->spacy) (4.5.0)\n",
            "Requirement already satisfied: charset-normalizer<4,>=2 in /usr/local/lib/python3.10/dist-packages (from requests<3.0.0,>=2.13.0->spacy) (3.3.0)\n",
            "Requirement already satisfied: idna<4,>=2.5 in /usr/local/lib/python3.10/dist-packages (from requests<3.0.0,>=2.13.0->spacy) (3.4)\n",
            "Requirement already satisfied: urllib3<3,>=1.21.1 in /usr/local/lib/python3.10/dist-packages (from requests<3.0.0,>=2.13.0->spacy) (2.0.7)\n",
            "Requirement already satisfied: certifi>=2017.4.17 in /usr/local/lib/python3.10/dist-packages (from requests<3.0.0,>=2.13.0->spacy) (2023.7.22)\n",
            "Requirement already satisfied: blis<0.8.0,>=0.7.8 in /usr/local/lib/python3.10/dist-packages (from thinc<8.3.0,>=8.1.8->spacy) (0.7.11)\n",
            "Requirement already satisfied: confection<1.0.0,>=0.0.1 in /usr/local/lib/python3.10/dist-packages (from thinc<8.3.0,>=8.1.8->spacy) (0.1.3)\n",
            "Requirement already satisfied: click<9.0.0,>=7.1.1 in /usr/local/lib/python3.10/dist-packages (from typer<0.10.0,>=0.3.0->spacy) (8.1.7)\n",
            "Requirement already satisfied: MarkupSafe>=2.0 in /usr/local/lib/python3.10/dist-packages (from jinja2->spacy) (2.1.3)\n",
            "Collecting cloudpathlib<0.17.0,>=0.7.0 (from weasel<0.4.0,>=0.1.0->spacy)\n",
            "  Using cached cloudpathlib-0.16.0-py3-none-any.whl (45 kB)\n",
            "Requirement already satisfied: japanize-matplotlib in /usr/local/lib/python3.10/dist-packages (1.1.3)\n",
            "Requirement already satisfied: matplotlib in /usr/local/lib/python3.10/dist-packages (from japanize-matplotlib) (3.7.1)\n",
            "Requirement already satisfied: contourpy>=1.0.1 in /usr/local/lib/python3.10/dist-packages (from matplotlib->japanize-matplotlib) (1.1.1)\n",
            "Requirement already satisfied: cycler>=0.10 in /usr/local/lib/python3.10/dist-packages (from matplotlib->japanize-matplotlib) (0.12.1)\n",
            "Requirement already satisfied: fonttools>=4.22.0 in /usr/local/lib/python3.10/dist-packages (from matplotlib->japanize-matplotlib) (4.43.1)\n",
            "Requirement already satisfied: kiwisolver>=1.0.1 in /usr/local/lib/python3.10/dist-packages (from matplotlib->japanize-matplotlib) (1.4.5)\n",
            "Requirement already satisfied: numpy>=1.20 in /usr/local/lib/python3.10/dist-packages (from matplotlib->japanize-matplotlib) (1.23.5)\n",
            "Requirement already satisfied: packaging>=20.0 in /usr/local/lib/python3.10/dist-packages (from matplotlib->japanize-matplotlib) (23.2)\n",
            "Requirement already satisfied: pillow>=6.2.0 in /usr/local/lib/python3.10/dist-packages (from matplotlib->japanize-matplotlib) (9.4.0)\n",
            "Requirement already satisfied: pyparsing>=2.3.1 in /usr/local/lib/python3.10/dist-packages (from matplotlib->japanize-matplotlib) (3.1.1)\n",
            "Requirement already satisfied: python-dateutil>=2.7 in /usr/local/lib/python3.10/dist-packages (from matplotlib->japanize-matplotlib) (2.8.2)\n",
            "Requirement already satisfied: six>=1.5 in /usr/local/lib/python3.10/dist-packages (from python-dateutil>=2.7->matplotlib->japanize-matplotlib) (1.16.0)\n",
            "Requirement already satisfied: umap-learn in /usr/local/lib/python3.10/dist-packages (0.5.4)\n",
            "Requirement already satisfied: numpy>=1.17 in /usr/local/lib/python3.10/dist-packages (from umap-learn) (1.23.5)\n",
            "Requirement already satisfied: scipy>=1.3.1 in /usr/local/lib/python3.10/dist-packages (from umap-learn) (1.11.3)\n",
            "Requirement already satisfied: scikit-learn>=0.22 in /usr/local/lib/python3.10/dist-packages (from umap-learn) (1.2.2)\n",
            "Requirement already satisfied: numba>=0.51.2 in /usr/local/lib/python3.10/dist-packages (from umap-learn) (0.56.4)\n",
            "Requirement already satisfied: pynndescent>=0.5 in /usr/local/lib/python3.10/dist-packages (from umap-learn) (0.5.10)\n",
            "Requirement already satisfied: tqdm in /usr/local/lib/python3.10/dist-packages (from umap-learn) (4.66.1)\n",
            "Requirement already satisfied: tbb>=2019.0 in /usr/local/lib/python3.10/dist-packages (from umap-learn) (2021.10.0)\n",
            "Requirement already satisfied: llvmlite<0.40,>=0.39.0dev0 in /usr/local/lib/python3.10/dist-packages (from numba>=0.51.2->umap-learn) (0.39.1)\n",
            "Requirement already satisfied: setuptools in /usr/local/lib/python3.10/dist-packages (from numba>=0.51.2->umap-learn) (67.7.2)\n",
            "Requirement already satisfied: joblib>=0.11 in /usr/local/lib/python3.10/dist-packages (from pynndescent>=0.5->umap-learn) (1.3.2)\n",
            "Requirement already satisfied: threadpoolctl>=2.0.0 in /usr/local/lib/python3.10/dist-packages (from scikit-learn>=0.22->umap-learn) (3.2.0)\n"
          ]
        }
      ],
      "source": [
        "# spaCyとginza, ja_ginzaモデルのインストール\n",
        "! pip install -U spacy ginza ja_ginza\n",
        "#　日本語の描画に必要\n",
        "! pip install japanize-matplotlib\n",
        "# 次元圧縮\n",
        "! pip install umap-learn"
      ]
    },
    {
      "cell_type": "code",
      "source": [
        "import pandas as pd\n",
        "import requests\n",
        "from io import BytesIO\n",
        "\n",
        "# ファイルIDを使用してダウンロードURLを作成\n",
        "file_id = \"1a2fVSyTzHEDDyvGpQc5acNKCo-8O2iIe\"\n",
        "download_url = f\"https://drive.google.com/uc?id={file_id}\"\n",
        "\n",
        "# ファイルをダウンロード\n",
        "response = requests.get(download_url)\n",
        "response.raise_for_status()\n",
        "\n",
        "# BytesIOを使用して、直接pandasで読み込み\n",
        "data = BytesIO(response.content)\n",
        "# なお、このデータは以下のノートブックで作成している。\n",
        "# https://github.com/kishiyamat/la-kentei-yaminabe/blob/main/notebooks/haripota_data_prep.ipynb\n",
        "df = pd.read_pickle(data)"
      ],
      "metadata": {
        "id": "iszQMuEr6oac"
      },
      "execution_count": 2,
      "outputs": []
    },
    {
      "cell_type": "code",
      "source": [
        "# サンプリング後のデータをX, yに分ける\n",
        "X = df['text'].tolist()\n",
        "y = df['label'].tolist()"
      ],
      "metadata": {
        "id": "UiSMtPtj7GXT"
      },
      "execution_count": 3,
      "outputs": []
    },
    {
      "cell_type": "code",
      "source": [
        "import spacy\n",
        "\n",
        "nlp = spacy.load(\"ja_ginza\")\n",
        "\n",
        "def tokenize(text):\n",
        "    return [token.text for token in nlp(text)]\n",
        "\n",
        "# 単語(より厳密には形態素)に分割できる\n",
        "tokenize(\"正気かどうかは統計上の問題ではない\")"
      ],
      "metadata": {
        "id": "vODvK2Ks5lCE",
        "colab": {
          "base_uri": "https://localhost:8080/"
        },
        "outputId": "c4dc1825-6c88-444d-d0d0-4e198b9d02be"
      },
      "execution_count": 4,
      "outputs": [
        {
          "output_type": "execute_result",
          "data": {
            "text/plain": [
              "['正気', 'か', 'どう', 'か', 'は', '統計', '上', 'の', '問題', 'で', 'は', 'ない']"
            ]
          },
          "metadata": {},
          "execution_count": 4
        }
      ]
    },
    {
      "cell_type": "markdown",
      "source": [
        "## TF-IDFとUMAP"
      ],
      "metadata": {
        "id": "QC2C7TZHGzdp"
      }
    },
    {
      "cell_type": "code",
      "source": [
        "import japanize_matplotlib"
      ],
      "metadata": {
        "id": "BcXVG12PWXH8"
      },
      "execution_count": 5,
      "outputs": []
    },
    {
      "cell_type": "code",
      "source": [
        "from sklearn.feature_extraction.text import TfidfVectorizer\n",
        "import umap\n",
        "import matplotlib.pyplot as plt\n",
        "import seaborn as sns\n",
        "\n",
        "# TF-IDFでベクトル化\n",
        "# max_featuresは語彙サイズを制限するためのもの。必要に応じて調整してください。\n",
        "vectorizer = TfidfVectorizer(tokenizer=tokenize, max_features=5000)\n",
        "X_tfidf = vectorizer.fit_transform(X)"
      ],
      "metadata": {
        "id": "uH6LTUBX1WHZ",
        "colab": {
          "base_uri": "https://localhost:8080/"
        },
        "outputId": "698005cd-b179-4bcd-cd5d-dfc3e5bc2075"
      },
      "execution_count": 6,
      "outputs": [
        {
          "output_type": "stream",
          "name": "stderr",
          "text": [
            "/usr/local/lib/python3.10/dist-packages/sklearn/feature_extraction/text.py:528: UserWarning: The parameter 'token_pattern' will not be used since 'tokenizer' is not None'\n",
            "  warnings.warn(\n"
          ]
        }
      ]
    },
    {
      "cell_type": "code",
      "source": [
        "# UMAPで2次元に圧縮\n",
        "reducer = umap.UMAP(n_components=2, random_state=42, n_neighbors=15)  # n_neighbors=15\n",
        "X_umap = reducer.fit_transform(X_tfidf.toarray())  # .toarray()は、もしX_vecがsparse matrixの場合に必要"
      ],
      "metadata": {
        "id": "ajKJwVKIKqG2",
        "colab": {
          "base_uri": "https://localhost:8080/"
        },
        "outputId": "e4ffd60d-39a9-42b0-daa2-5389ed98382f"
      },
      "execution_count": 7,
      "outputs": [
        {
          "output_type": "stream",
          "name": "stderr",
          "text": [
            "/usr/local/lib/python3.10/dist-packages/umap/umap_.py:1943: UserWarning: n_jobs value -1 overridden to 1 by setting random_state. Use no seed for parallelism.\n",
            "  warn(f\"n_jobs value {self.n_jobs} overridden to 1 by setting random_state. Use no seed for parallelism.\")\n"
          ]
        }
      ]
    },
    {
      "cell_type": "code",
      "source": [
        "import matplotlib.pyplot as plt\n",
        "import seaborn as sns\n",
        "\n",
        "# データフレームに変換\n",
        "df_umap = pd.DataFrame(X_umap, columns=['Dim1', 'Dim2'])\n",
        "df_umap['label'] = y"
      ],
      "metadata": {
        "id": "n48fwocJu9wW"
      },
      "execution_count": 8,
      "outputs": []
    },
    {
      "cell_type": "code",
      "source": [
        "import seaborn as sns\n",
        "\n",
        "# 可視化\n",
        "plt.figure(figsize=(5, 5))\n",
        "\n",
        "combinations = [\n",
        "     {\"color\": \"white\", \"marker\": \"o\"},\n",
        "     {\"color\": \"black\", \"marker\": \"o\"},\n",
        "     {\"color\": \"white\", \"marker\": \"^\"},\n",
        "     {\"color\": \"black\", \"marker\": \"^\"},\n",
        "     {\"color\": \"white\", \"marker\": \"s\"},\n",
        "     {\"color\": \"black\", \"marker\": \"s\"},\n",
        "]\n",
        "combinations = {k: v for k,v in zip(set(y), combinations)}\n",
        "print(combinations)\n",
        "\n",
        "for label, combo in combinations.items():\n",
        "    subset = df_umap[df_umap['label'] == label]\n",
        "    sns.scatterplot(x='Dim1', y='Dim2', color=combo[\"color\"], marker=combo[\"marker\"], data=subset, s=40, edgecolor='black', alpha=0.8, label=label)\n",
        "\n",
        "plt.title('2D UMAP of TF-IDF Vectors')\n",
        "plt.legend(loc=\"upper right\", bbox_to_anchor=(1.0, 1.0))\n",
        "plt.savefig('umap_plot.pdf', bbox_inches='tight')\n",
        "plt.show()"
      ],
      "metadata": {
        "colab": {
          "base_uri": "https://localhost:8080/",
          "height": 522
        },
        "id": "-quigfAGwBK4",
        "outputId": "675687b7-68a3-49a9-cc4a-c7d7baf5a284"
      },
      "execution_count": 9,
      "outputs": [
        {
          "output_type": "stream",
          "name": "stdout",
          "text": [
            "{'科学博物館': {'color': 'white', 'marker': 'o'}, 'ディズニーランド': {'color': 'black', 'marker': 'o'}, 'ジブリ美術館': {'color': 'white', 'marker': '^'}, '民族博物館': {'color': 'black', 'marker': '^'}, 'USJ': {'color': 'white', 'marker': 's'}, 'ハリポタツアー': {'color': 'black', 'marker': 's'}}\n"
          ]
        },
        {
          "output_type": "display_data",
          "data": {
            "text/plain": [
              "<Figure size 500x500 with 1 Axes>"
            ],
            "image/png": "[encoded data removed]"
          },
          "metadata": {}
        }
      ]
    },
    {
      "cell_type": "markdown",
      "source": [
        "## ロジスティック回帰\n",
        "\n",
        "- 分類\n",
        "- ベータの可視化"
      ],
      "metadata": {
        "id": "zOtNod2EGFLA"
      }
    },
    {
      "cell_type": "code",
      "source": [
        "import pandas as pd\n",
        "from sklearn.linear_model import LogisticRegression\n",
        "from sklearn.model_selection import train_test_split\n",
        "import numpy as np\n",
        "from plotnine import *\n",
        "\n",
        "# ジブリ美術館とハリポタツアーのインデックスを取得\n",
        "y = np.array(y)\n",
        "# ラベルの更新\n",
        "y_updated = np.zeros_like(y)\n",
        "\n",
        "positive_labels = ['科学博物館', '民族博物館']\n",
        "negative_labels = ['ディズニーランド', 'USJ']\n",
        "\n",
        "for idx, label in enumerate(y):\n",
        "    if label in positive_labels:\n",
        "        y_updated[idx] = 1\n",
        "    elif label in negative_labels:\n",
        "        y_updated[idx] = 0\n",
        "    else:\n",
        "        y_updated[idx] = -1\n",
        "\n",
        "# テストデータの分割\n",
        "mask_test = np.isin(y, ['ジブリ美術館', 'ハリポタツアー'])\n",
        "mask_train = ~mask_test\n",
        "\n",
        "X_train = X_tfidf[mask_train]\n",
        "y_train = y_updated[mask_train]\n",
        "X_test = X_tfidf[mask_test]\n",
        "y_test = y_updated[mask_test]"
      ],
      "metadata": {
        "id": "KKvpefRhGE1q"
      },
      "execution_count": 10,
      "outputs": []
    },
    {
      "cell_type": "code",
      "source": [
        "# ロジスティック回帰モデルを学習\n",
        "clf = LogisticRegression(max_iter=1000).fit(X_train, y_train)\n",
        "\n",
        "# ベータの値を取得\n",
        "coefs = clf.coef_[0]\n",
        "features = vectorizer.get_feature_names_out()"
      ],
      "metadata": {
        "id": "hF1eImSyPqk0"
      },
      "execution_count": 11,
      "outputs": []
    },
    {
      "cell_type": "code",
      "source": [
        "# ベータの値と特徴名を結合してデータフレームを作成\n",
        "df_coefs = pd.DataFrame({\n",
        "    'feature': features,\n",
        "    'coef': coefs\n",
        "})\n",
        "\n",
        "stop_words = \"と て の 。 、 ！ あり けど 7 「 」 まし た ある な\".split()\n",
        "df_coefs.query(\"feature not in @stop_words\", inplace=True)"
      ],
      "metadata": {
        "id": "BRrXZCuyPryV"
      },
      "execution_count": 12,
      "outputs": []
    },
    {
      "cell_type": "code",
      "source": [
        "# 絶対値を基に上位の特徴を選択\n",
        "top_n = 20\n",
        "df_coefs[\"abs_coef\"] = df_coefs[\"coef\"].abs()\n",
        "df_top_features = df_coefs.nlargest(top_n, 'abs_coef').drop(columns=[\"abs_coef\"])\n",
        "\n",
        "# プロット\n",
        "plt.figure(figsize=(3, 6))\n",
        "df_top_features.sort_values(by=\"coef\").plot.barh(x='feature', y='coef', legend=False, figsize=(6, 4))\n",
        "plt.xlabel('Coefficient Value')\n",
        "plt.ylabel('Feature')\n",
        "plt.title(f'係数（最大値）の大きい{top_n}語')\n",
        "plt.tight_layout()\n",
        "plt.show()"
      ],
      "metadata": {
        "colab": {
          "base_uri": "https://localhost:8080/",
          "height": 425
        },
        "id": "nNMI8rkO8LAN",
        "outputId": "eea7b59e-d37d-4dde-c3f1-18708986bb8a"
      },
      "execution_count": 13,
      "outputs": [
        {
          "output_type": "display_data",
          "data": {
            "text/plain": [
              "<Figure size 300x600 with 0 Axes>"
            ]
          },
          "metadata": {}
        },
        {
          "output_type": "display_data",
          "data": {
            "text/plain": [
              "<Figure size 600x400 with 1 Axes>"
            ],
            "image/png": "[encoded data removed]"
          },
          "metadata": {}
        }
      ]
    },
    {
      "cell_type": "markdown",
      "source": [
        "## 博物館と推論されたレビュー"
      ],
      "metadata": {
        "id": "OJoF4VHKUVXX"
      }
    },
    {
      "cell_type": "code",
      "source": [
        "# yが'ハリポタツアー'であるX_tfidfを取得\n",
        "X_harrypotter = np.array(X)[y == 'ハリポタツアー']\n",
        "X_tfidf_harrypotter = X_tfidf[y == 'ハリポタツアー']\n",
        "\n",
        "# ロジスティック回帰モデルを使って推論\n",
        "predicted_labels = clf.predict(X_tfidf_harrypotter)\n",
        "\n",
        "# ラベルが1であるサンプルのインデックスを取得\n",
        "positive_indices = np.where(predicted_labels == '1')[0]\n",
        "\n",
        "# 元のXから該当するサンプルを取得\n",
        "X_positive_samples = X_harrypotter[positive_indices]"
      ],
      "metadata": {
        "id": "4tAerLlAHvdi"
      },
      "execution_count": 14,
      "outputs": []
    },
    {
      "cell_type": "code",
      "source": [
        "import textwrap\n",
        "\n",
        "for sample in X_positive_samples:\n",
        "    wrapped_text = textwrap.fill(sample, width=40)\n",
        "    print(wrapped_text, \"\\n\")"
      ],
      "metadata": {
        "colab": {
          "base_uri": "https://localhost:8080/"
        },
        "id": "BmVJywZOSYKi",
        "outputId": "b02359bf-6326-49e2-c0dd-4756b3006205"
      },
      "execution_count": 15,
      "outputs": [
        {
          "output_type": "stream",
          "name": "stdout",
          "text": [
            "店舗情報↓-----------------------------------\n",
            "-----------【店名】バックロットカフェ※ワーナーブラザーススタジオツア\n",
            "ー東京内【営業時間】9:30〜21:00頃(スタジオクローズまで)定休日：不定休\n",
            "(ワーナーブラザーススタジオツアー東京に準ずる)【アクセス】西武豊島線\n",
            "豊島園駅より徒歩3分都営地下鉄大江戸線 豊島園駅より徒歩5分【予算】4,000〜\n",
            "5,000円/人(ディナー)【オススメ利用シーン】デート・家族/友人との利用【食\n",
            "べログ評価(訪問日時点)】⭐️ニューオープンのためなし-------------\n",
            "---------------------------------☆オススメポイ\n",
            "ント☆①あのハリーポッター作品をイメージしたドリンク・フードが揃う②ヘドウィグを\n",
            "形取ったビジュアルケーキ【メニュー】「グリフィンドールプレート(3,200円)」\n",
            "「ヘドウィグケーキ(1,500円)」「バタービール(1,100円)」まずはメイン\n",
            "料理として注文した、「グリフィンドールプレート」。プレートの主役はイギリスらしい\n",
            "ローストビーフで、非常に大きく食べ応えのあるもの。サイズだけならステーキとも遜色\n",
            "ない。ただ質に関してやはり専門店などには劣るかと。ソースも一般的な業務用のような\n",
            "ものなので、特筆する点はない。ただ、このソースをセットのダッチパンケーキ風に付け\n",
            "て食べるのは美味しいのでオススメ。ちなみにこの他にも各寮のプレートがあるので、自\n",
            "分の推しの寮のプレートを注文してみて欲しい。続いてデザートとして注文可能なヘドウ\n",
            "ィグケーキ。見た目がなんとも可愛いこちらのケーキは、ハリーポッターが飼っているフ\n",
            "クロウのヘドウィグを形取ったケーキで、器も鳥籠を模しており、まさに映える一品。た\n",
            "っぷりのクリームの中には、スポンジケーキやいちご、バナナといったフルーツも入って\n",
            "いる。大きくボリュームあるケーキであった。そしてハリーポッター定番ドリンクのバタ\n",
            "ービール。上の泡はキャラメルポップコーンのようなバターが効いた味わいで、ドリンク\n",
            "部分は甘い炭酸飲料。大人から子供まで楽しめる味わいではあるが、やや甘すぎるので、\n",
            "大人には少々しんどさもあるかと。ちなみにドリンクが入っていた特製ジョッキは洗って\n",
            "お土産として持ち帰ることも可能である。【まとめ】2023年6月16日に「としまえ\n",
            "ん」の跡地にオープンした「ワーナーブラザーススタジオツアー東京」内にできたカフェ\n",
            "「バックロットカフェ」。「ワーナーブラザーススタジオツアー東京」は、あの名作「ハ\n",
            "リーポッター」の制作裏を体験できる施設で、本場イギリスの次に出来た、世界で2番目\n",
            "の施設である。「バックロットカフェ」は、そんな施設内のちょうど中間地点に位置する\n",
            "休憩所となっており、所要時間4時間程度と言われているこの施設では重要な休憩スポッ\n",
            "トである。カフェ内はかなり広々としており、満席ということはそうそうなさそう。また\n",
            "、ゆっくりとしすぎると、後半で急がないといけなくなる可能性あるので、回転率も割と\n",
            "良さそう。今回注文した他にも、ハグリッドがハリーのために作った誕生日ケーキや、忍\n",
            "びの地図を模したハンバーグなど、ファンには堪らないメニューが盛りだくさん。ハリポ\n",
            "タファンはぜひ一度訪問してみて欲しい。 \n",
            "\n",
            "平日木曜日午前に行きました。個人的にハリーポッターは原作から入った組で、もちろん\n",
            "映画も（１回だけだけど）視聴済。ただ、元々ここにあった「としまえん」の大ファンで\n",
            "もあったので複雑な心境で行くこととなりました。良い施設だと思います。さすが映画屋\n",
            "さんが作っただけのことはあり映画ハリーポッターシリーズのメイキングの裏側であった\n",
            "り、実際に使われた道具やモックアップ等、作りの拘りを感じられる展示に溢れています\n",
            "。個人的には特に音響について解説されている部分について、「ここのシーンってこうや\n",
            "って作ったのか！」と感動しました。もちろんダイアゴン横丁、キングスクロス駅等のセ\n",
            "ットはハリーポッターの世界に入り込んだような素晴らしいものでした。スタッフさんも\n",
            "ハリーポッター大好きなんだろうなぁという方々が多く、展示物を見ていると「写真を撮\n",
            "りましょうか？」とか「ここのこういうモノがこう使われたんですよ」等の豆知識を教え\n",
            "てくれたりします。食事や飲み物、お土産についてもハリーポッターの世界観を活かした\n",
            "もので見ているだけで楽しむことが出来ます。一方で…これは野暮なことかもしれません\n",
            "が、メインシリーズが完結を見た今、この施設に来る人ってどのくらいいるんだろう…と\n",
            "いう危惧もあります。確かに（自分含め）コアなファン層は一定数いるし、映画としても\n",
            "大ヒットしたシリーズですので、ある程度の客足は望めるとは思いますが…看板に（いい\n",
            "意味で）偽りなく『スタジオツアー東京 - メイキング・オブ・ハリー・ポッター』、\n",
            "なので、これといったアトラクションは少なく、文字通りメイキングの裏側を見られるツ\n",
            "アーなわけです。なので、年齢層的に言うと映画を現役で観た世代（１０代～３０代くら\n",
            "い）が多かったように感じます。としまえんのそれとは明らかに異なります。確かに素晴\n",
            "らしい施設ですが、ディズニーリゾートのような「年パス取って何度も来たい」と思わせ\n",
            "るような印象は残念ながら受けませんでした。あくまでハリポタファンとしてこれからも\n",
            "末永く続けて欲しいと思っています。期待も込めて★５とさせていただきます。追伸：デ\n",
            "ジタルガイドも使ったのですが、運用方法が非常に難しいです。音声付きで解説をしてく\n",
            "れるのですが、展示品にも解説が書いてあったり、写真を撮ったりと一度にやることが多\n",
            "すぎて情報が耳に入ってきづらい…また、詳細を動画で撮影監督やプロデューサーが説明\n",
            "を加えてくれるページもあるのですが、つまり歩きスマホ推奨？ということになってしま\n",
            "います。（音声だけ聞くという方法もありますが、吹き替えではないので英語力はある程\n",
            "度求められます）デジタルガイドも完全に使いこなして展示を見ていくと５時間程度必要\n",
            "になると思いますし、相当なハリポタファン同士で行く場合か、お一人様で行く場合では\n",
            "ないと到底オススメ出来ません。 \n",
            "\n",
            "とても充実した体験でした！！ツアー所要時間は4時間以上と公式に案内されていますが\n",
            "私はその倍でも足りませんでした。時間指定予約なので混雑も待ち時間もなくスムーズに\n",
            "入場できます。ハリーポッター〜ファンタスティックビーストの映画で使われたセットや\n",
            "衣装、小道具などが当時の職人の手でそのまま再現、展示されています(一部実際に撮影\n",
            "で使われたものも)。「そのまま」なので、魔法はCGやこんなカラクリだったと言うし\n",
            "、天井や壁は一部無いし、裏に回れば鉄骨が見える。同時にリアリティのために、本物の\n",
            "城で使われる石を使ったり、画面に映らないような所も作り込む。それが面白いのです。\n",
            "CG制作や音の制作についても体験しながら知ることができます。見るだけでなく、魔法\n",
            "の体験ができる場所も数箇所あります。杖を持って行くとより楽しいでしょう  ハリー\n",
            "ポッター＆ファンタスティックビーストのファンはもちろん、モノづくりや衣装、制作工\n",
            "程など舞台裏に興味があったり、博物館などが好きな方にとっては、シリーズをよく知ら\n",
            "なくても楽しめると思います（もちろん知っていた方が何倍も面白いでしょう）逆にハリ\n",
            "ーポッターは好きでも、魔法の裏側なんて知りたくない、テーマパークで遊びたい、完成\n",
            "品以外に興味無い、という方には不向きかもしれません。個人的にはこれで各種クリエイ\n",
            "ターへの興味や理解が増えてくれたら嬉しいですが。☆細かいお役立ち情報的なもの(全\n",
            "て2023年6月17日現在)館内涼しめです。半袖にローブでちょうどいい。ツアー入\n",
            "場は遅れる分には問題ない。ツアー入口から40分くらいトイレありません(と入口で案\n",
            "内されました)各トイレ付近にはベンチあり。トイレは水漏れも幽霊もいません。ご安心\n",
            "を。ツアー内を行ったり来たりは自由。現金とクレジットカード(少なくともVISA,\n",
            "MASTER)は使えます。バタービールバーはコード決済も可。ただし事業者名の表記\n",
            "は見つからなかったので全て使えるかは不明。他店舗でのコード支払可否は不明。ベビー\n",
            "カーや車椅子を利用している方もいました(詳細はご自身でご確認ください)館内は一部\n",
            "エリアを除き水分補給可ですが、自販機などは無さそう。バックロットカフェにアーマッ\n",
            "ドティー数種のペットボトルはありました。事前予約した公式ブックは、入口インフォメ\n",
            "ーション、またはグッズショップのレジで伝えると交換してくれます。英語と日本語えら\n",
            "べます。デジタルガイドも英語と日本語選べます。スマホなので後で切替も可。思い出用\n",
            "の紙チケットは16時？までは建物外のチケット窓口、それ以降は館内インフォメーショ\n",
            "ンで発行してもらえます。後日交換もできるらしい。 \n",
            "\n",
            "言わずもがな、ハリーポッターファンにはたまらない施設。細部まで非常にお金がかかっ\n",
            "ており、貴重な衣装や大道具、小道具などが、ありとあらゆるところに散りばめられてい\n",
            "る。携わったスタッフの解説掲示などもあり、感嘆の声をかけてずっとあげ続けていた。\n",
            "体験コーナーもあり、ハリーポッターの世界に没入できる。正直ハリーポッター作品、特\n",
            "に映画版をかなり熟知していないと、面白さは半減すると思われる。仮にハリーポッター\n",
            "全く知らない人が行っても「なんのこっちゃ？」となるので、行くなら映画を全シリーズ\n",
            "観てからを強くお勧めする。逆にマニアレベルだと、細かいところまで存分に楽しめると\n",
            "思う。魔法の杖は無いよりあった方がちょっと楽しめるかも。わざわざ買わなくても（結\n",
            "構高いし）自作しても良きかと。推しの寮生のローブなんかも売っているし、着ていくと\n",
            "その気になっていいかと思いますが、みーんな着ているので、あえてダンブルドアの衣装\n",
            "とかでも面白いかも。私はスネイプ先生の格好で行きました笑30分おきに、その時間帯\n",
            "までに入場できるチケットを持った人だけ入場する制限型の上、ある程度の順路が決まっ\n",
            "ており、川の流れのように人が流れていくので、大きな混雑もなく、快適にじっくりと鑑\n",
            "賞できます。フォトスポットは無限にあるのでたくさん写真を撮って楽しみましょう。順\n",
            "路に沿って、各セクションをじっくり堪能して歩くと、入り口か、出口まで3〜4時間は\n",
            "かかるので、よい運動にもなります。画像はもっとアップしても良いんですが、これから\n",
            "行く方の楽しみが減るのであえて少なめで。これからいく方は事前情報ない方がとても驚\n",
            "くことが出来るので、なるべく情報を仕入れないで行くことをお勧めします。 \n",
            "\n",
            "チケット予約制の為、エントランス以外は数分待てば直ぐに体験出来る様子でした。通常\n",
            "、4〜5時間かかるとのことですが、観る所が多く写真、デジタルガイドを併せると5時\n",
            "間では足りません。そして、屋内、屋上併せてとにかく広い為、歩き続けます。荷物かあ\n",
            "る方は無料のクロークに預けた方が、体験し易いです。ベビーカーに乗っている小さな子\n",
            "供には、お化け屋敷的な雰囲気なのでキャラクターやストーリーが判っていないと楽しめ\n",
            "ない可能性があります。各地で泣き声が聴こえてました。また、園内ではQRコードを登\n",
            "録しないとアトラクションを体験することができなきので要チェックです。園内は何故か\n",
            "電波が非常に悪い為、wifiに繋げ直ぐにQRコードを出せるようにしておくとスムー\n",
            "ズです。各地でコードを出せずに苦闘している人達が列をなしてました。裏を見ると舞台\n",
            "セットの為、ハリボテなのですが、質感など本物にしかみえません。制作させている環境\n",
            "、工程など世界観にどっぷりつかれる事は間違いないです！魔法体験、エキストラ体験、\n",
            "ほうき乗り体験などもQRコードを使用して画像合成し映像に入り込むことが出来ます。\n",
            "町、城、家など映画で利用された場面を照らし合せて楽しめ、再度映画を観る楽しみにな\n",
            "ると思います。最後にショップもかなり広く、人気のローブマント（13000円）の小\n",
            "さなサイズは売り切れてました。写真を取りたい方は早い時間で買って、コスプレしてか\n",
            "らわまると良いと写真が撮れると思います！ \n",
            "\n",
            "『ワーナー ブラザース スタジオツアー東京 – メイキング・オブ・ハリーポッター\n",
            "』に早速行って来ました。今回は日曜日の12:00からのツアーのチケット取れました\n",
            "。入館はツアー開始の1時間前に入れるので11:00に入ってグッズ売り場にグッズ売\n",
            "り場も幾つかのエリアに別れておりメチャメチャ広くてツアー前の1時間では全部見れな\n",
            "かったのでツアー後も見たら2時間ぐらい時間を使ってしまいました。ツアーは「ハリー\n",
            "・ポッター」や「ファンタスティック・ビースト」のセットや衣装、小道具や魔法動物な\n",
            "どが展示されておりハリー・ポッターの世界に入る事ができます。1時間ぐらいで見れる\n",
            "良く有る展示会ぐらいの意識でしたが広さと展示物の多さにビックリ体験コーナーも幾つ\n",
            "かありましたが、自分は1/3ぐらいしか体験しないで興味が余り無い所は流して見てま\n",
            "したがツアースタートからゴールまでに4時間ぐらいかかりました。自分はハリーポッタ\n",
            "ー映画はシリーズ途中で脱落しましたが「メイキング・オブ・ハリーポッター」はメチャ\n",
            "面白かったです。館内は見どころ満載で1日遊べるので午前中の予約をオススメします。\n",
            "あとメチャメチャ歩くので動きやすい恰好が良いです。荷物は入り口に無料のクロークが\n",
            "あるので預ける事はできます。 \n",
            "\n",
            "豊島園の跡地に新に出来たハリー・ポッターの映画の世界に入り込める施設です。ツアー\n",
            "内のセットは実際の映画撮影と同じ製作スタジオが手掛けているとの事で、まさにハリポ\n",
            "タそのものを楽しめます。ツアー前にショップで、お気に入りのクラス制服と、推しキャ\n",
            "ラの杖を準備してホグワーツの生徒に成りきれば、ハリポタの世界に没入すること間違い\n",
            "無しの施設です。また映画の撮影設定、小物や、スタッフの拘り、セット裏などハリポタ\n",
            "ファン以外でも映画撮影の裏側も観る事が出来るので楽しめると思います。ツアー中間ポ\n",
            "イントには劇中でもお馴染みのbutterbeerや食事が出来るレストラン🍴🍝もあ\n",
            "ります。butterbeer🍺のジョッキは、お土産に持って帰る事も出来ますよ🎵最\n",
            "短で2~3時間程で観て廻れると聞きましたが、ゆっくり楽しむなら、5~6時間以上は\n",
            "掛かると思います。予約する時に、午前中の入場が出来る時間帯の予約をお勧めします。 \n",
            "\n",
            "ハリー・ポッターファンにはいくら時間があっても足りないです！もし誰かに誘われてつ\n",
            "いていくならば、行く前に映画を観ていった方が数倍楽しめると思います。チケットを購\n",
            "入する際に駐車場を確保できるので、安心して車で行けました。また、事前に公式ガイド\n",
            "ブックを購入できますが、現地のショップでも普通に売っているので、実際に中身を見て\n",
            "からにしてもいいと思いました。また、ガイドのオプションは無しで行きましたが十分に\n",
            "楽しめました。ツアーのチケットを購入する際、開始時間が遅くともお昼ごろまでのにし\n",
            "ないと、時間が足りなくなってしまうかもしれません。せっかく行くなら早めのをおすす\n",
            "めします。施設の中は涼しいので、ローブなどの衣装を着て回っても汗をかかずに楽しめ\n",
            "ます。夏など暑い日にうっかり薄着のまま行ってしまうとずっと寒いまま回ることになる\n",
            "ので、一応羽織るものを持っていった方が安心です。 \n",
            "\n",
            "何か粗を探して完璧を求める文句言いたいだけのテーマパークを楽しもうともしない星1\n",
            "つや2つの可哀想な人もたくさん見受けられますが、ハリーポッターが好きなら純粋な心\n",
            "で楽しめるはずです。施設の天井のせいでリアル感台無しとかコスパ悪いとかとしまえん\n",
            "がよかったとか、ないものねだりで施設を造り運営されている関係者の苦労や努力を否定\n",
            "するかのような人の心も持たない可哀想な人達にとっては自分がいちばんなので物足りな\n",
            "いかもしれませんが、私は5時間あっても回り尽くせないくらい細部まで楽しめました。\n",
            "友達と行っても家族と行っても恋人と行っても楽しめない完璧主義のつまらなくて嫌われ\n",
            "てそうで可哀想な人は2度と行かないんでしょうけど、私は純粋に楽しめる人とまたここ\n",
            "に来て新しい発見をして楽しみたいと思います。最高のテーマパークでした。 \n",
            "\n",
            "新たな感動でした。私からはポイントを紹介します。・ツアーは最低4時間かかります。\n",
            "・途中のレストラン、カフェまで2時間、ここでバタービールが飲めます。表面の泡が甘\n",
            "くて疲れが癒やされました。入場直ぐの場所にクローク(無料)がありますので身軽でツ\n",
            "アー参加ください。・途中に参加型のイベントあります。入場してから最初の方にQRコ\n",
            "ードを登録して、どんどん参加しましょう。・写真を撮るポイントが多く、スマホの充電\n",
            "が足らない可能性大。予備バッテリーを持っていきましょう。・最後のホグワーツ城は凄\n",
            "い！校長室、グリフィンドール、スリザリンの寮の場所などスタッフの方に質問すると親\n",
            "切に教えてくれます。是非ともコンタクトしてみて！・お土産は最後に。マントと杖を買\n",
            "う時のみ最初に、ですね。良いツアーを楽しんでください！ \n",
            "\n",
            "予約時間より早く入れます。先ずは売り切れる前に、お土産を買って、入り口付近のクロ\n",
            "ークに預けてツアーに進むとスムーズです。QRコードチケットの確認は、中で何度もす\n",
            "るので、廃止して下さい。入り口だけで十分だと思います。面倒で、混雑の原因です。ち\n",
            "ょっと急ぎ足で進む事をオススメします。四十代の私達は、６時間半掛かってしまい、最\n",
            "後はクタクタで、写真すら撮りに行けませんでした。ダンブルドアとハーマイオニーとド\n",
            "ビーのコスプレしてまたリベンジします!! \n",
            "\n",
            "ついに豊島園跡地に、2023年6月16日（金）にオープンです。ファンには堪らない\n",
            "映画撮影の裏側やセット、小物など見ているうちにストーリーを思い出して懐かしく思え\n",
            "ます。バタービールも美味しく、無数の撮影スポットやコンテンツが充実しているので、\n",
            "大人も子どもも楽しめます。オープンしたばかりということもあり、チケット入手は困難\n",
            "になると思います。来場希望の方は早めの予約が必須がおすすめです。 \n",
            "\n",
            "映画作成の裏側が見られます。クディッチの応援や箒に乗って空を飛ぶ映像など、自分が\n",
            "映画の画面に参加する形で画像合成を体験できたりします。これらはホグワーツの制服着\n",
            "ていると映えること間違いなし。全部のセッションを終わると4時間位かかるつもりで行\n",
            "く必要あります。展示エリアに隣接する土産物売り場だけでも雰囲気満点のディスプレイ\n",
            "でその広さ、商品の多さに圧倒されます。 \n",
            "\n",
            "ハリポタの世界にグイグイ吸い込まれて行きました。まさに本物、見所があり過ぎて何時\n",
            "間居てもワクワクが止まりません。予約制なのでじっくりと余裕を持って見られたのが良\n",
            "かったです。グッズもたくさんあって目移りして大変でしたね。入場しなくてもグッズだ\n",
            "け購入できると嬉しいですねぇ～ \n",
            "\n"
          ]
        }
      ]
    },
    {
      "cell_type": "code",
      "source": [
        "np.mean(predicted_labels.astype(int))"
      ],
      "metadata": {
        "colab": {
          "base_uri": "https://localhost:8080/"
        },
        "id": "q2TdiXyUTFP0",
        "outputId": "c81e2306-5c7c-428d-95b8-3e7d0d1cf0db"
      },
      "execution_count": 16,
      "outputs": [
        {
          "output_type": "execute_result",
          "data": {
            "text/plain": [
              "0.21875"
            ]
          },
          "metadata": {},
          "execution_count": 16
        }
      ]
    },
    {
      "cell_type": "markdown",
      "source": [
        "## 好きな文を分類してみよう"
      ],
      "metadata": {
        "id": "L8-UwvD4YjUU"
      }
    },
    {
      "cell_type": "code",
      "source": [
        "X_new = [\n",
        "    \"アイヌの文化の展示を見ました。また、手話を言語としてみなす展示も新しい発見が多くありました。\",\n",
        "    \"ジェットコースター楽しかった！\",\n",
        "    \"\"\"12月にジュエルミネーションを観たくて初めて行きました。土曜日で混んでたこともあり、駐車場は少し離れた場所になりましたが、入場口近くまで無料のシャトルバスが出ていました。\n",
        "    アフターパスで夕方から入ったのもあり、園内広いので全然回りきれませんでしたが、ジュエルミネーションはとても綺麗だったし、乗り物も大人が乗っても楽しめるものも多くて良かったです☆\n",
        "    あと、授乳室が２ヶ所にあるのも助かりました。\n",
        "    ジュエリー・タワーに上れるの知らなかったので、次回はそちらに上って、ジュエリー・クリスタルの全景を観てみたいです。\n",
        "    冬場はとにかく寒いのでしっかり防寒して行くと良いと思います。\"\"\", # よみうりランド\n",
        "    \"\",  # 好きな文を分類できます。1は博物館の判定です。\n",
        "    ]\n",
        "X_new_tfidf = vectorizer.transform(X_new)\n",
        "clf.predict(X_new_tfidf)"
      ],
      "metadata": {
        "colab": {
          "base_uri": "https://localhost:8080/"
        },
        "id": "PZRzcKcqTIda",
        "outputId": "72c0b4ea-034e-4ee6-c2f0-82de79265ee6"
      },
      "execution_count": 17,
      "outputs": [
        {
          "output_type": "execute_result",
          "data": {
            "text/plain": [
              "array(['1', '0', '0', '0'], dtype='<U8')"
            ]
          },
          "metadata": {},
          "execution_count": 17
        }
      ]
    },
    {
      "cell_type": "markdown",
      "source": [
        "## 補足: 交差検証"
      ],
      "metadata": {
        "id": "RWRKDbxkqY0J"
      }
    },
    {
      "cell_type": "code",
      "source": [
        "from sklearn.model_selection import cross_val_predict\n",
        "from sklearn.metrics import accuracy_score, confusion_matrix\n",
        "from sklearn.linear_model import LogisticRegression\n",
        "\n",
        "# ロジスティック回帰モデルのインスタンスを作成\n",
        "clf = LogisticRegression(max_iter=1000)\n",
        "\n",
        "# 5分割交差検証で予測を行う\n",
        "y_pred = cross_val_predict(clf, X_train, y_train, cv=5)\n",
        "\n",
        "# 精度を計算\n",
        "accuracy = accuracy_score(y_train, y_pred)\n",
        "print(f\"Accuracy: {accuracy:.4f}\")"
      ],
      "metadata": {
        "colab": {
          "base_uri": "https://localhost:8080/"
        },
        "id": "tUwzB7Xwqfa1",
        "outputId": "03898843-84b0-4e43-a566-d1f858610cb7"
      },
      "execution_count": 18,
      "outputs": [
        {
          "output_type": "stream",
          "name": "stdout",
          "text": [
            "Accuracy: 0.9453\n"
          ]
        }
      ]
    },
    {
      "cell_type": "code",
      "source": [
        "# 混同行列を計算\n",
        "cm = confusion_matrix(y_train, y_pred)\n",
        "\n",
        "# 混同行列を表示\n",
        "print(\"Confusion Matrix:\")\n",
        "print(cm)"
      ],
      "metadata": {
        "colab": {
          "base_uri": "https://localhost:8080/"
        },
        "id": "XSQ5T8ocqg0Y",
        "outputId": "6e1158fa-727e-404d-d577-4f1055f952aa"
      },
      "execution_count": 19,
      "outputs": [
        {
          "output_type": "stream",
          "name": "stdout",
          "text": [
            "Confusion Matrix:\n",
            "[[122   6]\n",
            " [  8 120]]\n"
          ]
        }
      ]
    },
    {
      "cell_type": "markdown",
      "source": [
        "## おまけ：確率の計算\n",
        "\n",
        "各カテゴリーで特徴的な語の抽出"
      ],
      "metadata": {
        "id": "gnrxJi3_-cbO"
      }
    },
    {
      "cell_type": "code",
      "source": [
        "import pandas as pd\n",
        "from tqdm import tqdm\n",
        "\n",
        "import matplotlib.pyplot as plt\n",
        "from sklearn.naive_bayes import MultinomialNB\n",
        "from sklearn.feature_extraction.text import CountVectorizer\n",
        "\n",
        "vectorizer = CountVectorizer(tokenizer=tokenize)\n",
        "\n",
        "X_vec = vectorizer.fit_transform(X)\n",
        "\n",
        "classifier = MultinomialNB()\n",
        "classifier.fit(X_vec, y)\n",
        "new_X = [\n",
        "    \"深海の圧力\",\n",
        "    \"世界の文化と言語を学べた\",\n",
        "    \"カエルのチョコレートおいしい\",\n",
        "    \"魔法を学べた\",\n",
        "    \"魔法を楽しめた\",\n",
        "]\n",
        "print(classifier.predict(vectorizer.transform(new_X)))\n",
        "\n",
        "# モデルから特徴の尤度を取得\n",
        "# feature_log_prob_ndarray of shape (n_classes, n_features)\n",
        "# Empirical log probability of features given a class, P(x_i|y).\n",
        "log_prob = classifier.feature_log_prob_\n",
        "\n",
        "# 特徴名の取得\n",
        "feature_names = vectorizer.get_feature_names_out()\n",
        "\n",
        "# データフレームを作成\n",
        "df = pd.DataFrame(log_prob.T, columns=classifier.classes_, index=feature_names)\n",
        "\n",
        "import spacy\n",
        "\n",
        "# GiNZAのモデルをロード\n",
        "nlp = spacy.load('ja_ginza')\n",
        "\n",
        "# 全ての特徴名に対して品詞情報を取得し、内容語のみをリストに保持\n",
        "content_words = []\n",
        "\n",
        "# for word in feature_names:\n",
        "for word in tqdm(feature_names, desc=\"Processing words\"):\n",
        "    doc = nlp(word)\n",
        "    if len(doc) == 1 and doc[0].pos_ in ['NOUN', 'VERB', 'ADJ']:  # 名詞、動詞、形容詞のみを対象とする\n",
        "        content_words.append(word)\n",
        "\n",
        "# 特定の非内容語のリスト\n",
        "specific_remove_words = [\"ある\", \"ない\", \"こと\", \"い\", \"お\", \"あり\", \"いる\"]\n",
        "\n",
        "# 全ての非内容語をリストに格納\n",
        "remove_words = [word for word in feature_names if word not in content_words] + specific_remove_words\n",
        "\n",
        "# データフレームから非内容語を除外\n",
        "df = df.drop(index=remove_words, errors='ignore')\n",
        "\n",
        "import numpy as np\n",
        "import matplotlib.pyplot as plt\n",
        "\n",
        "# 各カテゴリで上位5の特徴を取得\n",
        "top_n = 5\n",
        "dfs = []\n",
        "\n",
        "for column in df.columns:\n",
        "    top_features = df[column].nlargest(top_n)\n",
        "    top_features = top_features.reset_index()\n",
        "    top_features.columns = [\"Feature\", \"Log Probability\"]\n",
        "    top_features[\"Category\"] = column\n",
        "    dfs.append(top_features)\n",
        "\n",
        "final_df = pd.concat(dfs, axis=0)\n",
        "\n",
        "# ユニークなカテゴリ数を取得\n",
        "n_categories = len(final_df['Category'].unique())\n",
        "\n",
        "# サブプロットの作成\n",
        "fig, axes = plt.subplots(nrows=3, ncols=2, figsize=(5, 1 * n_categories))\n",
        "flat_axes = axes.ravel()\n",
        "\n",
        "for ax, category in zip(flat_axes, final_df['Category'].unique()):\n",
        "    subset = final_df[final_df['Category'] == category]\n",
        "    ax.barh(subset['Feature'], subset['Log Probability'], label=category)\n",
        "    ax.set_title(category)\n",
        "    ax.set_xlabel('Log Probability')\n",
        "\n",
        "plt.tight_layout()\n",
        "plt.show()"
      ],
      "metadata": {
        "colab": {
          "base_uri": "https://localhost:8080/",
          "height": 661
        },
        "id": "A9AGyhWl-jEU",
        "outputId": "cab0bf3f-96f8-4888-d917-ec8e7031795a"
      },
      "execution_count": 20,
      "outputs": [
        {
          "output_type": "stream",
          "name": "stderr",
          "text": [
            "/usr/local/lib/python3.10/dist-packages/sklearn/feature_extraction/text.py:528: UserWarning: The parameter 'token_pattern' will not be used since 'tokenizer' is not None'\n"
          ]
        },
        {
          "output_type": "stream",
          "name": "stdout",
          "text": [
            "['科学博物館' '民族博物館' 'ハリポタツアー' 'ハリポタツアー' 'ハリポタツアー']\n"
          ]
        },
        {
          "output_type": "stream",
          "name": "stderr",
          "text": [
            "Processing words: 100%|██████████| 6336/6336 [01:19<00:00, 79.25it/s] \n"
          ]
        },
        {
          "output_type": "display_data",
          "data": {
            "text/plain": [
              "<Figure size 500x600 with 6 Axes>"
            ],
            "image/png": "[encoded data removed]"
          },
          "metadata": {}
        }
      ]
    }
  ]
}