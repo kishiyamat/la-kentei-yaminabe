{
  "nbformat": 4,
  "nbformat_minor": 0,
  "metadata": {
    "colab": {
      "provenance": [],
      "authorship_tag": "ABX9TyMqorw5zYEcPHOch8J+x/KG",
      "include_colab_link": true
    },
    "kernelspec": {
      "name": "python3",
      "display_name": "Python 3"
    },
    "language_info": {
      "name": "python"
    }
  },
  "cells": [
    {
      "cell_type": "markdown",
      "metadata": {
        "id": "view-in-github",
        "colab_type": "text"
      },
      "source": [
        "<a href=\"https://colab.research.google.com/github/kishiyamat/la-kentei-yaminabe/blob/main/notebooks/talking_aid_word_freq.ipynb\" target=\"_parent\"><img src=\"https://colab.research.google.com/assets/colab-badge.svg\" alt=\"Open In Colab\"/></a>"
      ]
    },
    {
      "cell_type": "markdown",
      "source": [
        "## 頻度データの作り方"
      ],
      "metadata": {
        "id": "sEelL7ONU6l5"
      }
    },
    {
      "cell_type": "code",
      "source": [
        "! pip install -U ginza ja_ginza"
      ],
      "metadata": {
        "colab": {
          "base_uri": "https://localhost:8080/"
        },
        "id": "sarOb26IUu1i",
        "outputId": "ba53cb33-abb5-46b5-9257-325491c1e4fe"
      },
      "execution_count": null,
      "outputs": [
        {
          "output_type": "stream",
          "name": "stdout",
          "text": [
            "Collecting ginza\n",
            "  Downloading ginza-5.1.3-py3-none-any.whl (20 kB)\n",
            "Collecting ja_ginza\n",
            "  Downloading ja_ginza-5.1.3-py3-none-any.whl (59.1 MB)\n",
            "\u001b[2K     \u001b[90m━━━━━━━━━━━━━━━━━━━━━━━━━━━━━━━━━━━━━━━━\u001b[0m \u001b[32m59.1/59.1 MB\u001b[0m \u001b[31m11.8 MB/s\u001b[0m eta \u001b[36m0:00:00\u001b[0m\n",
            "\u001b[?25hRequirement already satisfied: spacy<3.7.0,>=3.2.0 in /usr/local/lib/python3.10/dist-packages (from ginza) (3.6.1)\n",
            "Collecting plac>=1.3.3 (from ginza)\n",
            "  Downloading plac-1.4.1-py2.py3-none-any.whl (22 kB)\n",
            "Collecting SudachiPy<0.7.0,>=0.6.2 (from ginza)\n",
            "  Downloading SudachiPy-0.6.7-cp310-cp310-manylinux_2_17_x86_64.manylinux2014_x86_64.whl (2.2 MB)\n",
            "\u001b[2K     \u001b[90m━━━━━━━━━━━━━━━━━━━━━━━━━━━━━━━━━━━━━━━━\u001b[0m \u001b[32m2.2/2.2 MB\u001b[0m \u001b[31m83.6 MB/s\u001b[0m eta \u001b[36m0:00:00\u001b[0m\n",
            "\u001b[?25hCollecting SudachiDict-core>=20210802 (from ginza)\n",
            "  Downloading SudachiDict_core-20230927-py3-none-any.whl (71.7 MB)\n",
            "\u001b[2K     \u001b[90m━━━━━━━━━━━━━━━━━━━━━━━━━━━━━━━━━━━━━━━━\u001b[0m \u001b[32m71.7/71.7 MB\u001b[0m \u001b[31m10.0 MB/s\u001b[0m eta \u001b[36m0:00:00\u001b[0m\n",
            "\u001b[?25hRequirement already satisfied: spacy-legacy<3.1.0,>=3.0.11 in /usr/local/lib/python3.10/dist-packages (from spacy<3.7.0,>=3.2.0->ginza) (3.0.12)\n",
            "Requirement already satisfied: spacy-loggers<2.0.0,>=1.0.0 in /usr/local/lib/python3.10/dist-packages (from spacy<3.7.0,>=3.2.0->ginza) (1.0.5)\n",
            "Requirement already satisfied: murmurhash<1.1.0,>=0.28.0 in /usr/local/lib/python3.10/dist-packages (from spacy<3.7.0,>=3.2.0->ginza) (1.0.10)\n",
            "Requirement already satisfied: cymem<2.1.0,>=2.0.2 in /usr/local/lib/python3.10/dist-packages (from spacy<3.7.0,>=3.2.0->ginza) (2.0.8)\n",
            "Requirement already satisfied: preshed<3.1.0,>=3.0.2 in /usr/local/lib/python3.10/dist-packages (from spacy<3.7.0,>=3.2.0->ginza) (3.0.9)\n",
            "Requirement already satisfied: thinc<8.2.0,>=8.1.8 in /usr/local/lib/python3.10/dist-packages (from spacy<3.7.0,>=3.2.0->ginza) (8.1.12)\n",
            "Requirement already satisfied: wasabi<1.2.0,>=0.9.1 in /usr/local/lib/python3.10/dist-packages (from spacy<3.7.0,>=3.2.0->ginza) (1.1.2)\n",
            "Requirement already satisfied: srsly<3.0.0,>=2.4.3 in /usr/local/lib/python3.10/dist-packages (from spacy<3.7.0,>=3.2.0->ginza) (2.4.8)\n",
            "Requirement already satisfied: catalogue<2.1.0,>=2.0.6 in /usr/local/lib/python3.10/dist-packages (from spacy<3.7.0,>=3.2.0->ginza) (2.0.10)\n",
            "Requirement already satisfied: typer<0.10.0,>=0.3.0 in /usr/local/lib/python3.10/dist-packages (from spacy<3.7.0,>=3.2.0->ginza) (0.9.0)\n",
            "Requirement already satisfied: pathy>=0.10.0 in /usr/local/lib/python3.10/dist-packages (from spacy<3.7.0,>=3.2.0->ginza) (0.10.3)\n",
            "Requirement already satisfied: smart-open<7.0.0,>=5.2.1 in /usr/local/lib/python3.10/dist-packages (from spacy<3.7.0,>=3.2.0->ginza) (6.4.0)\n",
            "Requirement already satisfied: tqdm<5.0.0,>=4.38.0 in /usr/local/lib/python3.10/dist-packages (from spacy<3.7.0,>=3.2.0->ginza) (4.66.1)\n",
            "Requirement already satisfied: numpy>=1.15.0 in /usr/local/lib/python3.10/dist-packages (from spacy<3.7.0,>=3.2.0->ginza) (1.23.5)\n",
            "Requirement already satisfied: requests<3.0.0,>=2.13.0 in /usr/local/lib/python3.10/dist-packages (from spacy<3.7.0,>=3.2.0->ginza) (2.31.0)\n",
            "Requirement already satisfied: pydantic!=1.8,!=1.8.1,<3.0.0,>=1.7.4 in /usr/local/lib/python3.10/dist-packages (from spacy<3.7.0,>=3.2.0->ginza) (1.10.13)\n",
            "Requirement already satisfied: jinja2 in /usr/local/lib/python3.10/dist-packages (from spacy<3.7.0,>=3.2.0->ginza) (3.1.2)\n",
            "Requirement already satisfied: setuptools in /usr/local/lib/python3.10/dist-packages (from spacy<3.7.0,>=3.2.0->ginza) (67.7.2)\n",
            "Requirement already satisfied: packaging>=20.0 in /usr/local/lib/python3.10/dist-packages (from spacy<3.7.0,>=3.2.0->ginza) (23.2)\n",
            "Requirement already satisfied: langcodes<4.0.0,>=3.2.0 in /usr/local/lib/python3.10/dist-packages (from spacy<3.7.0,>=3.2.0->ginza) (3.3.0)\n",
            "Requirement already satisfied: typing-extensions>=4.2.0 in /usr/local/lib/python3.10/dist-packages (from pydantic!=1.8,!=1.8.1,<3.0.0,>=1.7.4->spacy<3.7.0,>=3.2.0->ginza) (4.5.0)\n",
            "Requirement already satisfied: charset-normalizer<4,>=2 in /usr/local/lib/python3.10/dist-packages (from requests<3.0.0,>=2.13.0->spacy<3.7.0,>=3.2.0->ginza) (3.3.2)\n",
            "Requirement already satisfied: idna<4,>=2.5 in /usr/local/lib/python3.10/dist-packages (from requests<3.0.0,>=2.13.0->spacy<3.7.0,>=3.2.0->ginza) (3.4)\n",
            "Requirement already satisfied: urllib3<3,>=1.21.1 in /usr/local/lib/python3.10/dist-packages (from requests<3.0.0,>=2.13.0->spacy<3.7.0,>=3.2.0->ginza) (2.0.7)\n",
            "Requirement already satisfied: certifi>=2017.4.17 in /usr/local/lib/python3.10/dist-packages (from requests<3.0.0,>=2.13.0->spacy<3.7.0,>=3.2.0->ginza) (2023.7.22)\n",
            "Requirement already satisfied: blis<0.8.0,>=0.7.8 in /usr/local/lib/python3.10/dist-packages (from thinc<8.2.0,>=8.1.8->spacy<3.7.0,>=3.2.0->ginza) (0.7.11)\n",
            "Requirement already satisfied: confection<1.0.0,>=0.0.1 in /usr/local/lib/python3.10/dist-packages (from thinc<8.2.0,>=8.1.8->spacy<3.7.0,>=3.2.0->ginza) (0.1.3)\n",
            "Requirement already satisfied: click<9.0.0,>=7.1.1 in /usr/local/lib/python3.10/dist-packages (from typer<0.10.0,>=0.3.0->spacy<3.7.0,>=3.2.0->ginza) (8.1.7)\n",
            "Requirement already satisfied: MarkupSafe>=2.0 in /usr/local/lib/python3.10/dist-packages (from jinja2->spacy<3.7.0,>=3.2.0->ginza) (2.1.3)\n",
            "Installing collected packages: SudachiPy, plac, SudachiDict-core, ginza, ja_ginza\n",
            "Successfully installed SudachiDict-core-20230927 SudachiPy-0.6.7 ginza-5.1.3 ja_ginza-5.1.3 plac-1.4.1\n"
          ]
        }
      ]
    },
    {
      "cell_type": "code",
      "source": [
        "import os\n",
        "\n",
        "url = \"https://dumps.wikimedia.org/jawiki/latest/jawiki-latest-abstract4.xml.gz\"\n",
        "os.system(f\"wget {url}\")"
      ],
      "metadata": {
        "colab": {
          "base_uri": "https://localhost:8080/"
        },
        "id": "Auf-WNRuXr8r",
        "outputId": "b1ce2d40-d42a-4108-8a1b-59e20ca0f4c7"
      },
      "execution_count": null,
      "outputs": [
        {
          "output_type": "execute_result",
          "data": {
            "text/plain": [
              "0"
            ]
          },
          "metadata": {},
          "execution_count": 2
        }
      ]
    },
    {
      "cell_type": "code",
      "execution_count": null,
      "metadata": {
        "id": "FlpC9nSiSCWq"
      },
      "outputs": [],
      "source": [
        "from collections import Counter\n",
        "import os\n",
        "import pickle\n",
        "import gzip\n",
        "from tqdm import tqdm\n",
        "import spacy\n",
        "\n",
        "def file_line_count(filename):\n",
        "    with gzip.open(filename, \"rt\") as file:\n",
        "        return sum(1 for _ in file)\n",
        "\n",
        "def extract_abstracts(filename):\n",
        "    total_lines = file_line_count(filename)\n",
        "    with gzip.open(filename, \"rt\") as file:\n",
        "        recording = False  # abstractタグ内の行を記録するためのフラグ\n",
        "        for line in tqdm(file, desc=\"Reading file\", total=total_lines):\n",
        "            if '<abstract>' in line and '</abstract>' in line:  # 同じ行に両方のタグが存在する場合\n",
        "                yield line.split('<abstract>')[1].split('</abstract>')[0].strip()\n",
        "            elif '<abstract>' in line and '</abstract>' not in line:  # 同じ行に両方のタグが存在する場合\n",
        "                raise ValueError(\"閉タグなし\")\n",
        "\n",
        "word_freq = Counter()\n",
        "nlp = spacy.load('ja_ginza')"
      ]
    },
    {
      "cell_type": "code",
      "source": [
        "# 50分くらいかかる\n",
        "for abstract in extract_abstracts(\"jawiki-latest-abstract4.xml.gz\"):\n",
        "    # 単語、頻度にする\n",
        "    doc = nlp(abstract)\n",
        "    words = [token.text for token in doc]\n",
        "    word_freq.update(words)\n",
        "\n",
        "with open('word_freq.pkl', 'wb') as f:\n",
        "    pickle.dump(word_freq, f)\n",
        "\n",
        "print(word_freq.most_common(10))"
      ],
      "metadata": {
        "colab": {
          "base_uri": "https://localhost:8080/"
        },
        "id": "B9k6c-ehUpFS",
        "outputId": "8072cd12-d19b-4974-c73d-d40fb7f7b189"
      },
      "execution_count": null,
      "outputs": [
        {
          "output_type": "stream",
          "name": "stderr",
          "text": [
            "Reading file: 100%|██████████| 2816817/2816817 [1:25:55<00:00, 546.38it/s]\n"
          ]
        },
        {
          "output_type": "stream",
          "name": "stdout",
          "text": [
            "[('、', 196319), ('の', 174768), ('。', 147487), ('は', 120860), ('（', 112698), ('）', 111568), ('|', 91775), ('年', 85070), ('に', 80318), ('=', 73053)]\n"
          ]
        }
      ]
    }
  ]
}